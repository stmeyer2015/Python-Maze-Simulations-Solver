{
 "cells": [
  {
   "cell_type": "markdown",
   "id": "91a46a14",
   "metadata": {},
   "source": [
    "# Search: Solving a Maze Using a Goal-based Agent\n",
    "\n",
    "\n",
    "## Instructions\n",
    "\n",
    "Total Points: Undegraduates 10, graduate students 11\n",
    "\n",
    "Complete this notebook and submit it. The notebook needs to be a complete project report with \n",
    "\n",
    "* your implementation,\n",
    "* documentation including a short discussion of how your implementation works and your design choices, and\n",
    "* experimental results (e.g., tables and charts with simulation results) with a short discussion of what they mean. \n",
    "\n",
    "Use the provided notebook cells and insert additional code and markdown cells as needed.\n",
    "\n",
    "\n",
    "## Introduction\n",
    "\n",
    "The agent has a map of the maze it is in and the environment is assumed to be **deterministic, discrete, and known.** The agent must use the map to plan a path through the maze from the starting location $S$ to the goal location $G$.  This is a planing exercise for a goal-based agent, so you do not need to implement an environment, just use the map to search for a path. Once the plan is made, the agent in a deterministic environment (i.e., the transition function is deterministic with the outcome of each state/action pair fixed and no randomness) can just follow the path and does not need to care about the percepts.\n",
    "This is also called an **[open-loop system](https://en.wikipedia.org/wiki/Open-loop_controller).**\n",
    "The execution phase is trivial and we do not implement it in this exercise.\n",
    "\n",
    "Tree search algorithm implementations that you find online and used in general algorithms courses have often a different aim. These algorithms assume that you already have a tree in memory. We are interested in dynamically creating a search tree with the aim of finding a good/the best path from the root noteto the goal state. Follow the pseudo code presented in the text book (and replicated in the slides) closely. Ideally, we would like to search only a small part of the maze, i.e., create a search tree with as few nodes as possible. \n",
    "\n",
    "Several mazes for this exercise are stored as text files. Here is the small example maze:"
   ]
  },
  {
   "cell_type": "code",
   "execution_count": 1,
   "id": "bba877d4",
   "metadata": {
    "collapsed": false,
    "jupyter": {
     "outputs_hidden": false
    }
   },
   "outputs": [
    {
     "name": "stdout",
     "output_type": "stream",
     "text": [
      "XXXXXXXXXXXXXXXXXXXXXX\n",
      "X XX        X X      X\n",
      "X    XXXXXX X XXXXXX X\n",
      "XXXXXX     S  X      X\n",
      "X    X XXXXXX XX XXXXX\n",
      "X XXXX X         X   X\n",
      "X        XXX XXX   X X\n",
      "XXXXXXXXXX    XXXXXX X\n",
      "XG         XX        X\n",
      "XXXXXXXXXXXXXXXXXXXXXX\n"
     ]
    }
   ],
   "source": [
    "f = open(\"small_maze.txt\", \"r\")\n",
    "maze_str = f.read()\n",
    "print(maze_str)"
   ]
  },
  {
   "cell_type": "markdown",
   "id": "8bc107fd",
   "metadata": {},
   "source": [
    "__Note:__ The mazes above contains cycles and therefore the state space may not form proper trees unless cycles are prevented. Therfore, you will need to deal with cycle detection in your code."
   ]
  },
  {
   "cell_type": "markdown",
   "id": "e9438fbd",
   "metadata": {},
   "source": [
    "## Parsing and pretty printing the maze\n",
    "\n",
    "The maze can also be displayed in color using code in the file [maze_helper.py](maze_helper.py). The code parses the string representing the maze and converts it into a `numpy` 2d array which you can use in your implementation. I represent a position as a 2-tuple of the form `(row, col)`. "
   ]
  },
  {
   "cell_type": "code",
   "execution_count": 2,
   "id": "66a065ec",
   "metadata": {
    "collapsed": false,
    "jupyter": {
     "outputs_hidden": false
    },
    "scrolled": true
   },
   "outputs": [
    {
     "name": "stdout",
     "output_type": "stream",
     "text": [
      "Position(0,0): X\n",
      "Position(8,1): G\n"
     ]
    }
   ],
   "source": [
    "%run maze_helper.py\n",
    "\n",
    "maze = parse_maze(maze_str)\n",
    "\n",
    "# look at a position in the maze by subsetting the 2d array\n",
    "print(\"Position(0,0):\", maze[0, 0])\n",
    "\n",
    "# there is also a helper function called `look(maze, pos)` available\n",
    "# which uses a 2-tuple for the position.\n",
    "print(\"Position(8,1):\", look(maze, (8, 1)))"
   ]
  },
  {
   "cell_type": "markdown",
   "id": "9ea49cba",
   "metadata": {},
   "source": [
    "A helper function to visualize the maze is also available."
   ]
  },
  {
   "cell_type": "code",
   "execution_count": 3,
   "id": "2efa073d",
   "metadata": {
    "collapsed": false,
    "jupyter": {
     "outputs_hidden": false
    }
   },
   "outputs": [
    {
     "data": {
      "image/png": "[encoded data removed]",
      "text/plain": [
       "<Figure size 432x288 with 1 Axes>"
      ]
     },
     "metadata": {
      "image/png": {
       "height": 183,
       "width": 362
      },
      "needs_background": "light"
     },
     "output_type": "display_data"
    }
   ],
   "source": [
    "%matplotlib inline\n",
    "%config InlineBackend.figure_format = 'retina'\n",
    "# use higher resolution images in notebook\n",
    "\n",
    "show_maze(maze)"
   ]
  },
  {
   "cell_type": "markdown",
   "id": "61b84dd6",
   "metadata": {},
   "source": [
    "Find the position of the start and the goal using the helper function `find_pos()`"
   ]
  },
  {
   "cell_type": "code",
   "execution_count": 4,
   "id": "dda4623f",
   "metadata": {
    "collapsed": false,
    "jupyter": {
     "outputs_hidden": false
    }
   },
   "outputs": [
    {
     "name": "stdout",
     "output_type": "stream",
     "text": [
      "Start location: (3, 11)\n",
      "Goal location: (8, 1)\n"
     ]
    }
   ],
   "source": [
    "print(\"Start location:\", find_pos(maze, what = \"S\"))\n",
    "print(\"Goal location:\", find_pos(maze, what = \"G\"))"
   ]
  },
  {
   "cell_type": "markdown",
   "id": "39082fcd",
   "metadata": {},
   "source": [
    "## Tree structure\n",
    "\n",
    "Here is an implementation of the basic node structure for the search algorithms (see Fig 3.7 on page 73). I have added a method that extracts the path from the root node to the current node. It can be used to get the path when the search is completed."
   ]
  },
  {
   "cell_type": "code",
   "execution_count": 5,
   "id": "3b41055f",
   "metadata": {
    "collapsed": false,
    "jupyter": {
     "outputs_hidden": false
    }
   },
   "outputs": [],
   "source": [
    "class Node:\n",
    "    def __init__(self, pos, parent, action, cost, distance):\n",
    "        self.pos = tuple(pos)    # the state; positions are (row,col)\n",
    "        self.parent = parent     # reference to parent node. None means root node.\n",
    "        self.action = action     # action used in the transition function (root node has None)\n",
    "        self.cost = cost         # for uniform cost this is the depth. It is also g(n) for A* search\n",
    "        self.distance = distance\n",
    "        \n",
    "    def __str__(self):\n",
    "        return f\"Node - pos = {self.pos}; action = {self.action}; cost = {self.cost}\"\n",
    "    \n",
    "    def get_path_from_root(self):\n",
    "        \"\"\"returns nodes on the path from the root to the current node.\"\"\"\n",
    "        node = self\n",
    "        path = [node]\n",
    "    \n",
    "        while not node.parent is None:\n",
    "            node = node.parent\n",
    "            path.append(node)\n",
    "        \n",
    "        path.reverse()\n",
    "        \n",
    "        return(path)"
   ]
  },
  {
   "cell_type": "markdown",
   "id": "18acf2f6",
   "metadata": {},
   "source": [
    "If needed, then you can add more fields to the class.\n",
    "\n",
    "\n",
    "__Tree and memory management example:__ Create the root node and append the node for going east with a cost of 1."
   ]
  },
  {
   "cell_type": "code",
   "execution_count": 6,
   "id": "5bec51b4",
   "metadata": {
    "collapsed": false,
    "jupyter": {
     "outputs_hidden": false
    }
   },
   "outputs": [
    {
     "name": "stdout",
     "output_type": "stream",
     "text": [
      "Create root node\n",
      "root: Node - pos = (0, 0); action = None; cost = 0\n",
      "root (reference): <__main__.Node object at 0x7f0505a2be80>\n",
      "\n",
      "Go east with cost 1 (from the parent root)\n",
      "node2: Node - pos = (0, 1); action = E; cost = 1\n",
      "parent of node2:  Node - pos = (0, 0); action = None; cost = 0\n",
      "parent of node2 (reference):  <__main__.Node object at 0x7f0505a2be80>\n",
      "Root is now referenced twice. Reference count for garbage collection (root node): 2\n",
      "\n",
      "Note that the root node is safe from garbage collection as long as we have also a reference in node2\n",
      "None\n",
      "parent of node2 (reference to root node):  <__main__.Node object at 0x7f0505a2be80>\n",
      "Reference count for garbage collection (root node): 1\n",
      "\n",
      "Path from root to node2\n",
      "References: [<__main__.Node object at 0x7f0505a2be80>, <__main__.Node object at 0x7f0505768ca0>]\n",
      "Positions: [(0, 0), (0, 1)]\n",
      "Actions: [None, 'E']\n",
      "Cost: [0, 1]\n",
      "\n",
      "Once we delete the reference to node2, the reference count for all nodes goes to zero and the whole tree is exposed to garbage collection.\n"
     ]
    }
   ],
   "source": [
    "# import sys to access reference counts\n",
    "import sys\n",
    "\n",
    "print(\"Create root node\")\n",
    "root = Node(pos = (0,0), parent = None, action = None, cost = 0, distance = 0)\n",
    "print(\"root:\", root)\n",
    "print(\"root (reference):\", repr(root))\n",
    "\n",
    "print()\n",
    "print(\"Go east with cost 1 (from the parent root)\")\n",
    "node2 = Node(pos = (0,1), parent = root, action = \"E\", cost = 1, distance = 0)\n",
    "print(\"node2:\", node2)\n",
    "print(\"parent of node2: \", node2.parent)\n",
    "print(\"parent of node2 (reference): \", repr(node2.parent))\n",
    "# Note: -1 is used because passing root to getrefcount adds one reference\n",
    "print(\"Root is now referenced twice. Reference count for garbage collection (root node):\", sys.getrefcount(root)-1)\n",
    "\n",
    "print()\n",
    "print(\"Note that the root node is safe from garbage collection as long as we have also a reference in node2\") \n",
    "root = None\n",
    "print(root)\n",
    "print(\"parent of node2 (reference to root node): \", repr(node2.parent))\n",
    "print(\"Reference count for garbage collection (root node):\", sys.getrefcount(node2.parent)-1)\n",
    "\n",
    "print()\n",
    "print(\"Path from root to node2\")\n",
    "path = node2.get_path_from_root()\n",
    "print(\"References:\", path)\n",
    "print(\"Positions:\", [n.pos for n in path])\n",
    "print(\"Actions:\", [n.action for n in path])\n",
    "print(\"Cost:\", [n.cost for n in path])\n",
    "\n",
    "\n",
    "print()\n",
    "print(\"Once we delete the reference to node2, the reference count for all nodes goes to zero and the whole tree is exposed to garbage collection.\")\n",
    "node2 = None\n",
    "\n"
   ]
  },
  {
   "cell_type": "markdown",
   "id": "8a9a64e5",
   "metadata": {},
   "source": [
    "# Goal\n",
    "Implement the following search algorithms for solving different mazes:\n",
    "\n",
    "* Breadth-first search (BFS)\n",
    "* Depth-first search (DFS)\n",
    "* Greedy best-first search (GBFS)\n",
    "* A* search\n",
    "\n",
    "Run each of the above algorithms on the \n",
    "[small maze](small_maze.txt), \n",
    "[medium maze](medium_maze.txt), \n",
    "[large maze](large_maze.txt), \n",
    "[open maze](open_maze.txt),\n",
    "[wall maze](wall_maze.txt),\n",
    "[loops maze](loops_maze.txt),\n",
    "[empty maze](empty_maze.txt), and\n",
    "[empty 2_maze](empty_2_maze.txt).\n",
    "For each problem instance and each search algorithm, report the following in a table:\n",
    "\n",
    "* The solution and its path cost\n",
    "* Number of nodes expanded\n",
    "* Maximum tree depth\n",
    "* Maximum size of the frontier\n",
    "\n",
    "Display each solution by marking every maze square (or state) visited and the squares on the final path."
   ]
  },
  {
   "cell_type": "markdown",
   "id": "d16483fc",
   "metadata": {},
   "source": [
    "## Task 1: Defining the search problem and determining the problem size [1 point]\n",
    "\n",
    "Define the components of the search problem:\n",
    "\n",
    "* Initial state\n",
    "* Actions\n",
    "* Transition model\n",
    "* Goal state\n",
    "* Path cost\n",
    "\n",
    "Use verbal descriptions, variables and equations as appropriate. \n",
    "\n",
    "*Note:* You can swich the next block from code to Markdown and use formating."
   ]
  },
  {
   "cell_type": "markdown",
   "id": "5357951f-38f9-422b-9a02-005a83af0815",
   "metadata": {
    "jupyter": {
     "outputs_hidden": false
    }
   },
   "source": [
    "* Initial State: The start location of the algorithm in the maze. A tuple of coordinates\n",
    "* Actions: The set of possible actions for the function. (North, East, South, West)\n",
    "* Transition Model: The function that determines the new state from performing an action. \n",
    "* Goal State: The Goal location of the algorithm in the maze. A tuple of coordinates\n",
    "* Path Cost: The sum of nonnegative step costs. Used to evaluate the algorithms"
   ]
  },
  {
   "cell_type": "markdown",
   "id": "7736a48d",
   "metadata": {},
   "source": [
    "Give some estimates for the problem size:\n",
    "\n",
    "* $n$: state space size\n",
    "* $d$: depth of the optimal solution\n",
    "* $m$: maximum depth of tree\n",
    "* $b$: maximum branching factor\n",
    "\n",
    "Describe how you would determin these values from a given maze."
   ]
  },
  {
   "cell_type": "markdown",
   "id": "6c82260b-8126-4c63-839e-29a20ac76ded",
   "metadata": {
    "jupyter": {
     "outputs_hidden": false
    }
   },
   "source": [
    "* 𝑛 : state space size: The state space is usually too large or it is continuous. Especially with a maze. First consider the number of available tiles (nxn). Then each tile has 7 possible states. So the static state space for the maze is 7N^2 but when you add a search algorithm with a tree to the state space it becomes too large to quantify.\n",
    "* 𝑑 : depth of the optimal solution: Is the number of actions needed to reach the goal state. The tree depth or optimal path size from start to goal node. There usually is only one correct optimal solution, unless the maze is symettric or happens to have two optimal paths with the same depth. \n",
    "* 𝑚 : maximum depth of tree: Is the number of actions needed in any path, which may be infinite if cycle checks are not implemented. The maximum depth is not always the branch that finds the goal. \n",
    "* 𝑏 : maximum branching factor: Number of succesor nodes for a parent. Usually related to the number of intersections the algorithm encounters in the maze."
   ]
  },
  {
   "cell_type": "markdown",
   "id": "11ac0e01",
   "metadata": {},
   "source": [
    "## Task 2: Uninformed search: Breadth-first and depth-first [4 points]\n",
    "\n",
    "Implement these search strategies. Follow the pseudocode in the textbook/slides. You can use the tree structure shown above to extract the final path from your solution.\n",
    "\n",
    "__Notes:__\n",
    "* You can find maze solving implementations online that use the map to store information. While this is an effective idea for this two-dimensional navigation problem, it typically cannot be used for other search problems. Therefore, follow the textbook and only store information in the tree created during search, and use the `reached` and `frontier` data structures.\n",
    "* DSF can be implemented using the BFS tree search algorithm and simply changing the order in which the frontier is expanded (this is equivalent to best-first search with path length as the criterion to expand the next node). However, to take advantage of the significantly smaller memory footprint of DFS, you need to implement DFS in a different way without a `reached` data structure and by releasing the memory for nodes that are not needed anymore. \n",
    "* If DFS does not use a `reached` data structure, then its cycle checking abilities are limited. Remember, that DSF is incomplete if cycles cannot be prevented. You will see in your experiments that open spaces are a problem."
   ]
  },
  {
   "cell_type": "code",
   "execution_count": 7,
   "id": "eaf6726d",
   "metadata": {
    "collapsed": false,
    "jupyter": {
     "outputs_hidden": false
    }
   },
   "outputs": [],
   "source": [
    "#############################################################################################################################################################\n",
    "#############################################################################################################################################################\n",
    "#Breadth First Search Code\n",
    "def BFS(maze, verbose):\n",
    "    path_cost = 0;\n",
    "    nodes_expanded = 0;\n",
    "    max_tree_depth = 0;\n",
    "    max_tree_size = 0;\n",
    "    max_frontier = 0; \n",
    "    start = find_pos(maze, what = \"S\")\n",
    "    goal = find_pos(maze, what = \"G\")\n",
    "    node = Node(pos = find_pos(maze, what = \"S\"), parent = None, action = None, cost = 0, distance = 0)\n",
    "    if (node.pos == find_pos(maze, what = \"G\")): return node\n",
    "    frontier = []\n",
    "    reached = []\n",
    "    frontier.append(node)\n",
    "    \n",
    "    while(frontier):\n",
    "        n = frontier.pop(0)\n",
    "        for child in ExpandBFS(maze, n):\n",
    "            maze[start] = \"S\"\n",
    "            maze[goal] = \"G\"\n",
    "            if(verbose): PrintMaze(maze)           \n",
    "            if (child.pos == goal):\n",
    "                nodes_expanded = np.count_nonzero(maze == \".\")\n",
    "                path = child.get_path_from_root()\n",
    "                for node in path:\n",
    "                    maze[node.pos[0], node.pos[1]] = \"P\"\n",
    "                    path_cost += 1\n",
    "                tree = getMaxTreeDepthBFS(frontier)\n",
    "                max_tree_depth = tree[0]\n",
    "                max_tree_size = tree[1]\n",
    "                maze[start] = \"S\"\n",
    "                maze[goal] = \"G\"\n",
    "                result = [path_cost, nodes_expanded, max_tree_depth, max_tree_size, max_frontier, n, maze]\n",
    "                return result         \n",
    "            if child.pos not in reached:\n",
    "                reached.append(child.pos)\n",
    "                frontier.append(child)  \n",
    "            if(len(frontier) > max_frontier): max_frontier = len(frontier)\n",
    "    return \"Failure\"\n",
    "            \n",
    "def ExpandBFS(maze, node):\n",
    "    pos = node.pos\n",
    "    for action in ActionBFS(maze, pos):\n",
    "        pos1 = ResultBFS(pos, action)\n",
    "        cost = node.cost + ActionCostBFS(pos, action, pos1)\n",
    "        maze[pos] = \".\"\n",
    "        if(action != \"D\"):\n",
    "            maze[pos1] = \"F\"\n",
    "        else:\n",
    "            maze[pos1] = \".\"\n",
    "        yield Node(pos1, node, action, cost, distance = 0)\n",
    "        \n",
    "def ActionBFS(maze, pos):\n",
    "    actions = []     \n",
    "    temp = list(pos)\n",
    "    row = temp[0]\n",
    "    col = temp[1]\n",
    "    if((look(maze, (row-1, col)) == \" \") or (look(maze, (row-1, col)) == \"G\")): #north\n",
    "        actions.append(\"N\")\n",
    "    if((look(maze, (row, col+1)) == \" \") or (look(maze, (row, col+1)) == \"G\")): #east\n",
    "        actions.append(\"E\")\n",
    "    if((look(maze, (row+1, col)) == \" \") or (look(maze, (row+1, col)) == \"G\")): #south\n",
    "        actions.append(\"S\")\n",
    "    if((look(maze, (row, col-1)) == \" \") or (look(maze, (row, col-1)) == \"G\")): #west\n",
    "        actions.append(\"W\")\n",
    "    if not actions: #List Empty\n",
    "        actions.append(\"D\")\n",
    "    return actions\n",
    "\n",
    "def ResultBFS(pos, action):\n",
    "    temp = list(pos)\n",
    "    row = temp[0]\n",
    "    col = temp[1]\n",
    "    if(action == \"N\"):\n",
    "        return (row-1, (col))\n",
    "    if(action == \"E\"):\n",
    "        return (row, col+1)\n",
    "    if(action == \"S\"):\n",
    "        return (row+1, col)\n",
    "    if(action == \"W\"):\n",
    "        return (row, col-1)\n",
    "    return pos\n",
    "\n",
    "def ActionCostBFS(pos, action, pos1):\n",
    "    return 1              \n",
    "\n",
    "def getMaxTreeDepthBFS(frontier):\n",
    "    max_tree_depth = 0\n",
    "    max_tree_size = 0\n",
    "    for node in frontier:\n",
    "        path = node.get_path_from_root()\n",
    "        if(len(path) > max_tree_depth):\n",
    "            max_tree_depth = len(path)\n",
    "        max_tree_size += len(node.get_path_from_root())\n",
    "    return (max_tree_depth, max_tree_size)\n",
    "\n",
    "#############################################################################################################################################################\n",
    "#############################################################################################################################################################\n",
    "#Depth First Search\n",
    "def DFS(maze, verbose):\n",
    "    path_cost = 0;\n",
    "    nodes_expanded = 0;\n",
    "    max_tree_depth = 0;\n",
    "    max_tree_size = 0;\n",
    "    max_frontier = 0; \n",
    "    start = find_pos(maze, what = \"S\")\n",
    "    goal = find_pos(maze, what = \"G\")\n",
    "    node = Node(pos = find_pos(maze, what = \"S\"), parent = None, action = None, cost = 0, distance = 0)\n",
    "    if (node.pos == find_pos(maze, what = \"G\")): return node\n",
    "    frontier = []\n",
    "    frontier.append(node)\n",
    "    cycle = []\n",
    "    \n",
    "    while(frontier):\n",
    "        node = frontier.pop(len(frontier)-1)\n",
    "        cycle = node.get_path_from_root()\n",
    "        maze[start] = \"S\"\n",
    "        maze[goal] = \"G\"\n",
    "        if(verbose): PrintMaze(maze)  \n",
    "            \n",
    "        if (node.pos == goal):\n",
    "            nodes_expanded = np.count_nonzero(maze == \".\")\n",
    "            path = child.get_path_from_root()\n",
    "            for node in path:\n",
    "                maze[node.pos[0], node.pos[1]] = \"P\"\n",
    "                path_cost += 1\n",
    "            tree = getMaxTreeDepthDFS(frontier)\n",
    "            max_tree_depth = tree[0]\n",
    "            max_tree_size = tree[1]\n",
    "            maze[start] = \"S\"\n",
    "            maze[goal] = \"G\"\n",
    "            result = [path_cost, nodes_expanded, max_tree_depth, max_tree_size, max_frontier, node, maze]\n",
    "            return result\n",
    "        \n",
    "        elif (cycle.count(node) < 2):\n",
    "            for child in ExpandDFS(maze, node):\n",
    "                if(child.action != \"D\"):\n",
    "                    frontier.append(child)\n",
    "        if(len(frontier) > max_frontier): max_frontier = len(frontier)\n",
    "    return \"Failure\"\n",
    "            \n",
    "def ExpandDFS(maze, node):\n",
    "    pos = node.pos\n",
    "    for action in ActionDFS(maze, pos):\n",
    "        pos1 = ResultDFS(pos, action)\n",
    "        cost = node.cost + ActionCostDFS(pos, action, pos1)\n",
    "        maze[pos] = \".\"\n",
    "        if(action != \"D\"):\n",
    "            maze[pos1] = \"F\"\n",
    "        else:\n",
    "            maze[pos1] = \".\"\n",
    "        yield Node(pos1, node, action, cost, distance = 0)\n",
    "        \n",
    "def ActionDFS(maze, pos):\n",
    "    actions = []     \n",
    "    temp = list(pos)\n",
    "    row = temp[0]\n",
    "    col = temp[1]\n",
    "    if((look(maze, (row-1, col)) == \" \") or (look(maze, (row-1, col)) == \"G\")): #north\n",
    "        actions.append(\"N\")\n",
    "    if((look(maze, (row, col+1)) == \" \") or (look(maze, (row, col+1)) == \"G\")): #east\n",
    "        actions.append(\"E\")\n",
    "    if((look(maze, (row+1, col)) == \" \") or (look(maze, (row+1, col)) == \"G\")): #south\n",
    "        actions.append(\"S\")\n",
    "    if((look(maze, (row, col-1)) == \" \") or (look(maze, (row, col-1)) == \"G\")): #west\n",
    "        actions.append(\"W\")\n",
    "    if not actions: #List Empty\n",
    "        actions.append(\"D\")\n",
    "        #print(\"Dead End\")\n",
    "    return actions\n",
    "\n",
    "def ResultDFS(pos, action):\n",
    "    temp = list(pos)\n",
    "    row = temp[0]\n",
    "    col = temp[1]\n",
    "    if(action == \"N\"):\n",
    "        return (row-1, (col))\n",
    "    if(action == \"E\"):\n",
    "        return (row, col+1)\n",
    "    if(action == \"S\"):\n",
    "        return (row+1, col)\n",
    "    if(action == \"W\"):\n",
    "        return (row, col-1)\n",
    "    return pos\n",
    "\n",
    "def ActionCostDFS(pos, action, pos1):\n",
    "    return 1              \n",
    "\n",
    "def getMaxTreeDepthDFS(frontier):\n",
    "    max_tree_depth = 0\n",
    "    max_tree_size = 0\n",
    "    for node in frontier:\n",
    "        path = node.get_path_from_root()\n",
    "        if(len(path) > max_tree_depth):\n",
    "            max_tree_depth = len(path)\n",
    "        max_tree_size += len(node.get_path_from_root())\n",
    "    return (max_tree_depth, max_tree_size)"
   ]
  },
  {
   "cell_type": "markdown",
   "id": "dd1459ad",
   "metadata": {},
   "source": [
    "How does BFS and DFS deal with loops (cycles)?"
   ]
  },
  {
   "cell_type": "markdown",
   "id": "6377ea8e-a2cd-4299-a772-60fa0cc4089f",
   "metadata": {
    "jupyter": {
     "outputs_hidden": false
    }
   },
   "source": [
    "# Discussion\n",
    "# Breadth First Search Cycle Check:\n",
    "BFS uses an list of previously visited positions called reached to prevent a node being added to the search tree that has already been visited. The reached list is checked by the child nodes position before being added to the frontier list. \n",
    "\n",
    "# Depth First Search Cycle Check:\n",
    "DFS has no reached data structure. Instead, the curren nodes path is used as a cycle check. This prevents any loops from occuring in the tree. In my code I count the number of occurrences of the new node in the current nodes path by usingn the provided get_path_from_root() function. If the number of occurences is greater than 1 the new node is ignored. "
   ]
  },
  {
   "cell_type": "markdown",
   "id": "7bfdf8e7",
   "metadata": {},
   "source": [
    "Are your implementations complete and optimal? Explain why. What is the time and space complexity of each of **your** implementations?"
   ]
  },
  {
   "cell_type": "markdown",
   "id": "24d5af99-4b82-4349-a7aa-35ab283b370c",
   "metadata": {
    "jupyter": {
     "outputs_hidden": false
    }
   },
   "source": [
    "# Discussion\n",
    "# Breadth First Search:\n",
    "* Complete: Yes\n",
    "* Optimal: Yes\n",
    "* Time Complexity: O(bd) d = depth optimal solution\n",
    "* Space Complexity: O(b^d) Space is usually a bigger problem than time\n",
    "# Depth First Search:\n",
    "* Complete: Only in finite search spaces. Incomplete in infinite search spaces (with cycles)\n",
    "* Optimal: No as it returns the first solution it finds\n",
    "* Time Complexity: O(b^m) time varies largely with chance of finding solution by chance\n",
    "* Space Complexity: O(bm) If it only stores frontier nodes and current path"
   ]
  },
  {
   "cell_type": "markdown",
   "id": "962b2c9b",
   "metadata": {},
   "source": [
    "## Task 3: Informed search: Implement greedy best-first search and A* search  [4 points]\n",
    "\n",
    "You can use the map to estimate the distance from your current position to the goal using the Manhattan distance (see https://en.wikipedia.org/wiki/Taxicab_geometry) as a heuristic function. Both algorithms are based on Best-First search which requires only a small change from the BFS algorithm you have already implemented (see textbook/slides). "
   ]
  },
  {
   "cell_type": "code",
   "execution_count": 8,
   "id": "4b372c13",
   "metadata": {
    "collapsed": false,
    "jupyter": {
     "outputs_hidden": false
    }
   },
   "outputs": [],
   "source": [
    "#############################################################################################################################################################\n",
    "#############################################################################################################################################################\n",
    "#Greedy Best First Search\n",
    "\n",
    "def GBFS(maze, verbose):\n",
    "    path_cost = 0;\n",
    "    nodes_expanded = 0;\n",
    "    max_tree_depth = 0;\n",
    "    max_tree_size = 0;\n",
    "    max_frontier = 0; \n",
    "    start = find_pos(maze, what = \"S\")\n",
    "    goal = find_pos(maze, what = \"G\")\n",
    "    node = Node(pos = find_pos(maze, what = \"S\"), parent = None, action = None, cost = 0, distance = 0)\n",
    "    if (node.pos == find_pos(maze, what = \"G\")): return node\n",
    "    frontier = []\n",
    "    reached = []\n",
    "    frontier.append(node)\n",
    "    reached = {start : node}\n",
    "    \n",
    "    while(frontier):\n",
    "        EuclideanDistanceGBFS(frontier, goal)\n",
    "        frontier.sort(key=DistanceGBFS)\n",
    "        n = frontier.pop(0)\n",
    "        \n",
    "        if (n.pos == goal):\n",
    "            nodes_expanded = np.count_nonzero(maze == \".\")\n",
    "            path = n.get_path_from_root()\n",
    "            for node in path:\n",
    "                maze[node.pos[0], node.pos[1]] = \"P\"\n",
    "                path_cost += 1\n",
    "            tree = getMaxTreeDepthGBFS(frontier)\n",
    "            max_tree_depth = tree[0]\n",
    "            max_tree_size = tree[1]\n",
    "            maze[start] = \"S\"\n",
    "            maze[goal] = \"G\"\n",
    "            result = [path_cost, nodes_expanded, max_tree_depth, max_tree_size, max_frontier, n, maze]\n",
    "            return result\n",
    "        \n",
    "        for child in ExpandGBFS(maze, n):\n",
    "            maze[start] = \"S\"\n",
    "            maze[goal] = \"G\"\n",
    "            if(verbose): PrintMaze(maze)  \n",
    "            pos = child.pos\n",
    "            if ((pos not in reached) or (child.distance < reached[pos].distance) and (child.action != \"D\")):\n",
    "                reached[pos] = child\n",
    "                frontier.append(child)\n",
    "  \n",
    "            if(len(frontier) > max_frontier): max_frontier = len(frontier)\n",
    "    return \"Failure\"           \n",
    "\n",
    "def ExpandGBFS(maze, node):\n",
    "    pos = node.pos\n",
    "    for action in ActionGBFS(maze, pos):\n",
    "        pos1 = ResultGBFS(pos, action)\n",
    "        cost = node.cost + ActionCostGBFS(pos, action, pos1)\n",
    "        maze[pos] = \".\"\n",
    "        if(action != \"D\"):\n",
    "            maze[pos1] = \"F\"\n",
    "        else:\n",
    "            maze[pos1] = \".\"\n",
    "        yield Node(pos1, node, action, cost, 0)\n",
    "        \n",
    "def ActionGBFS(maze, pos):\n",
    "    actions = []     \n",
    "    temp = list(pos)\n",
    "    row = temp[0]\n",
    "    col = temp[1]\n",
    "    if((look(maze, (row-1, col)) == \" \") or (look(maze, (row-1, col)) == \"G\")): #north\n",
    "        actions.append(\"N\")\n",
    "    if((look(maze, (row, col+1)) == \" \") or (look(maze, (row, col+1)) == \"G\")): #east\n",
    "        actions.append(\"E\")\n",
    "    if((look(maze, (row+1, col)) == \" \") or (look(maze, (row+1, col)) == \"G\")): #south\n",
    "        actions.append(\"S\")\n",
    "    if((look(maze, (row, col-1)) == \" \") or (look(maze, (row, col-1)) == \"G\")): #west\n",
    "        actions.append(\"W\")\n",
    "    if not actions: #List Empty\n",
    "        actions.append(\"D\")\n",
    "    return actions\n",
    "\n",
    "def ResultGBFS(pos, action):\n",
    "    temp = list(pos)\n",
    "    row = temp[0]\n",
    "    col = temp[1]\n",
    "    if(action == \"N\"):\n",
    "        return (row-1, (col))\n",
    "    if(action == \"E\"):\n",
    "        return (row, col+1)\n",
    "    if(action == \"S\"):\n",
    "        return (row+1, col)\n",
    "    if(action == \"W\"):\n",
    "        return (row, col-1)\n",
    "    return pos\n",
    "\n",
    "def ActionCostGBFS(pos, action, pos1):\n",
    "    return 1              \n",
    "\n",
    "def getMaxTreeDepthGBFS(frontier):\n",
    "    max_tree_depth = 0\n",
    "    max_tree_size = 0\n",
    "    for node in frontier:\n",
    "        path = node.get_path_from_root()\n",
    "        if(len(path) > max_tree_depth):\n",
    "            max_tree_depth = len(path)\n",
    "        max_tree_size += len(node.get_path_from_root())\n",
    "    return (max_tree_depth, max_tree_size)\n",
    "\n",
    "def EuclideanDistanceGBFS(frontier, goal):\n",
    "    import math\n",
    "    tempG = list(goal)\n",
    "    rowG = tempG[0]\n",
    "    colG = tempG[1]\n",
    "    for node in frontier:\n",
    "        temp = list(node.pos)\n",
    "        row = temp[0]\n",
    "        col = temp[1]\n",
    "        d = math.hypot((rowG - row),(colG - col))\n",
    "        node.distance = d\n",
    "\n",
    "def DistanceGBFS(d):\n",
    "    return d.distance\n",
    "\n",
    "#############################################################################################################################################################\n",
    "#############################################################################################################################################################\n",
    "#A* Search\n",
    "\n",
    "def Astar(maze, verbose):\n",
    "    path_cost = 0;\n",
    "    nodes_expanded = 0;\n",
    "    max_tree_depth = 0;\n",
    "    max_tree_size = 0;\n",
    "    max_frontier = 0; \n",
    "    start = find_pos(maze, what = \"S\")\n",
    "    goal = find_pos(maze, what = \"G\")\n",
    "    node = Node(pos = find_pos(maze, what = \"S\"), parent = None, action = None, cost = 0, distance = 0)\n",
    "    if (node.pos == find_pos(maze, what = \"G\")): return node\n",
    "    frontier = []\n",
    "    reached = []\n",
    "    frontier.append(node)\n",
    "    reached = {start : node}\n",
    "    \n",
    "    while(frontier):\n",
    "        EuclideanDistanceA(frontier, start, goal)\n",
    "        frontier.sort(key=DistanceA)\n",
    "        n = frontier.pop(0)\n",
    "        \n",
    "        if (n.pos == goal):\n",
    "            nodes_expanded = np.count_nonzero(maze == \".\")\n",
    "            path = n.get_path_from_root()\n",
    "            for node in path:\n",
    "                maze[node.pos[0], node.pos[1]] = \"P\"\n",
    "                path_cost += 1\n",
    "            tree = getMaxTreeDepthA(frontier)\n",
    "            max_tree_depth = tree[0]\n",
    "            max_tree_size = tree[1]\n",
    "            maze[start] = \"S\"\n",
    "            maze[goal] = \"G\"\n",
    "            result = [path_cost, nodes_expanded, max_tree_depth, max_tree_size, max_frontier, n, maze]\n",
    "            return result\n",
    "        \n",
    "        for child in ExpandA(maze, n):\n",
    "            maze[start] = \"S\"\n",
    "            maze[goal] = \"G\"\n",
    "            if(verbose): PrintMaze(maze)  \n",
    "            pos = child.pos\n",
    "            if ((pos not in reached) or (child.distance < reached[pos].distance) and (child.action != \"D\")):\n",
    "                reached[pos] = child\n",
    "                frontier.append(child)\n",
    "  \n",
    "            if(len(frontier) > max_frontier): max_frontier = len(frontier)\n",
    "    return \"Failure\"          \n",
    "\n",
    "def ExpandA(maze, node):\n",
    "    pos = node.pos\n",
    "    for action in ActionA(maze, pos):\n",
    "        pos1 = ResultA(pos, action)\n",
    "        cost = node.cost + ActionCostA(pos, action, pos1)\n",
    "        maze[pos] = \".\"\n",
    "        if(action != \"D\"):\n",
    "            maze[pos1] = \"F\"\n",
    "        else:\n",
    "            maze[pos1] = \".\"\n",
    "        yield Node(pos1, node, action, cost, 0)\n",
    "        \n",
    "def ActionA(maze, pos):\n",
    "    actions = []     \n",
    "    temp = list(pos)\n",
    "    row = temp[0]\n",
    "    col = temp[1]\n",
    "    if((look(maze, (row-1, col)) == \" \") or (look(maze, (row-1, col)) == \"G\")): #north\n",
    "        actions.append(\"N\")\n",
    "    if((look(maze, (row, col+1)) == \" \") or (look(maze, (row, col+1)) == \"G\")): #east\n",
    "        actions.append(\"E\")\n",
    "    if((look(maze, (row+1, col)) == \" \") or (look(maze, (row+1, col)) == \"G\")): #south\n",
    "        actions.append(\"S\")\n",
    "    if((look(maze, (row, col-1)) == \" \") or (look(maze, (row, col-1)) == \"G\")): #west\n",
    "        actions.append(\"W\")\n",
    "    if not actions: #List Empty\n",
    "        actions.append(\"D\")\n",
    "    return actions\n",
    "\n",
    "def ResultA(pos, action):\n",
    "    temp = list(pos)\n",
    "    row = temp[0]\n",
    "    col = temp[1]\n",
    "    if(action == \"N\"):\n",
    "        return (row-1, (col))\n",
    "    if(action == \"E\"):\n",
    "        return (row, col+1)\n",
    "    if(action == \"S\"):\n",
    "        return (row+1, col)\n",
    "    if(action == \"W\"):\n",
    "        return (row, col-1)\n",
    "    return pos\n",
    "\n",
    "def ActionCostA(pos, action, pos1):\n",
    "    return 1              \n",
    "\n",
    "def getMaxTreeDepthA(frontier):\n",
    "    max_tree_depth = 0\n",
    "    max_tree_size = 0\n",
    "    for node in frontier:\n",
    "        path = node.get_path_from_root()\n",
    "        if(len(path) > max_tree_depth):\n",
    "            max_tree_depth = len(path)\n",
    "        max_tree_size += len(node.get_path_from_root())\n",
    "    return (max_tree_depth, max_tree_size)\n",
    "\n",
    "def EuclideanDistanceA(frontier, start, goal):\n",
    "    import math\n",
    "    tempG = list(goal)\n",
    "    rowG = tempG[0]\n",
    "    colG = tempG[1]\n",
    "    for node in frontier:\n",
    "        dStart = 0\n",
    "        dGoal = 0\n",
    "        path = node.get_path_from_root()\n",
    "        for node in path:\n",
    "            dStart += 1\n",
    "        tempG = list(node.pos)\n",
    "        row = tempG[0]\n",
    "        col = tempG[1]\n",
    "        dGoal = math.hypot((rowG - row),(colG - col))  \n",
    "        node.distance = dStart + dGoal\n",
    "\n",
    "def DistanceA(d):\n",
    "    return d.distance"
   ]
  },
  {
   "cell_type": "markdown",
   "id": "9f77641d",
   "metadata": {},
   "source": [
    "Are your implementations complete and optimal? What is the time and space complexity?"
   ]
  },
  {
   "cell_type": "markdown",
   "id": "01402713-0b9a-4fbd-a786-2138fe30b6a1",
   "metadata": {
    "jupyter": {
     "outputs_hidden": false
    }
   },
   "source": [
    "# Discussion\n",
    "# Greedy Best First Search:\n",
    "* Complete: Yes\n",
    "* Optimal: No\n",
    "* Time Complexity: Worst Case O(b^m) Best Case O(bm) depending on h(n) accuracy\n",
    "* Space Complexity: Worst Case O(b^m) Best Case O(bm)\n",
    "# A* Search:\n",
    "* Complete: Yes\n",
    "* Optimal: Yes\n",
    "* Time Complexity: Worst Case O(b^m)\n",
    "* Space Complexity: Worst Case O(b^m)"
   ]
  },
  {
   "cell_type": "markdown",
   "id": "6c32cb6f",
   "metadata": {},
   "source": [
    "## Task 4: Comparison and discussion [2 points] \n",
    "\n",
    "Run experiments to compare the implemented algorithms and present the results as tables and charts. \n",
    "\n",
    "How to deal with issues:\n",
    "\n",
    "* Your implementation returns unexpected results: Try to debug and fix the code. Visualizing the maze, the current path and the frontier after every step is very helpful. If the code still does not work, then mark the result with an asterisk (*) and describe the issue below the table.\n",
    "\n",
    "* Your implementation cannot consistently solve a specific maze and ends up in an infinite loop:\n",
    "    Debug. If it is a shortcoming of the algorithm/implementation, then put \"N/A*\" in the results table and describe why this is happening."
   ]
  },
  {
   "cell_type": "code",
   "execution_count": 9,
   "id": "3a8dac5a",
   "metadata": {
    "collapsed": false,
    "jupyter": {
     "outputs_hidden": false
    }
   },
   "outputs": [
    {
     "name": "stdout",
     "output_type": "stream",
     "text": [
      "                    empty_2_maze.txt Results\n",
      "  Algorithm  Path Cost  Nodes Expanded  Max Tree Depth  Max Tree  Max Frontier\n",
      "0       BFS         15              91              15        43            11\n",
      "1       DFS         21              74              19       206            48\n",
      "2      GBFS         15              13              15       126            18\n",
      "3         A         15              73              15       231            22\n",
      "\n",
      " \n",
      " \n",
      " \n",
      " \n",
      "                    empty_maze.txt Results\n",
      "  Algorithm  Path Cost  Nodes Expanded  Max Tree Depth  Max Tree  Max Frontier\n",
      "0       BFS         15              91              15        43            12\n",
      "1       DFS         55              62              55       863            36\n",
      "2      GBFS         15              13              15       126            18\n",
      "3         A         15              73              15       231            22\n",
      "\n",
      " \n",
      " \n",
      " \n",
      " \n",
      "                    small_maze.txt Results\n",
      "  Algorithm  Path Cost  Nodes Expanded  Max Tree Depth  Max Tree  Max Frontier\n",
      "0       BFS         20              89              20        39             9\n",
      "1       DFS         30              38              19        40             5\n",
      "2      GBFS         30              38              19        40             5\n",
      "3         A         20              55              17        48             7\n",
      "\n",
      " \n",
      " \n",
      " \n",
      " \n",
      "                    medium_maze.txt Results\n",
      "  Algorithm  Path Cost  Nodes Expanded  Max Tree Depth  Max Tree  Max Frontier\n",
      "0       BFS         69             266              69       137             9\n",
      "1       DFS        153             152             139       578             8\n",
      "2      GBFS        153             158             139       584             8\n",
      "3         A         69             225              64       200             8\n",
      "\n",
      " \n",
      " \n",
      " \n",
      " \n",
      "                    large_maze.txt Results\n",
      "  Algorithm  Path Cost  Nodes Expanded  Max Tree Depth  Max Tree  Max Frontier\n",
      "0       BFS        211             617             211       632             8\n",
      "1       DFS        211             336             210      4192            38\n",
      "2      GBFS        211             470             210      3068            21\n",
      "3         A        211             556             210      1554            10\n",
      "\n",
      " \n",
      " \n",
      " \n",
      " \n",
      "                    open_maze.txt Results\n",
      "  Algorithm  Path Cost  Nodes Expanded  Max Tree Depth  Max Tree  Max Frontier\n",
      "0       BFS         55             678              54       162            25\n",
      "1       DFS         55             210              55      1995            89\n",
      "2      GBFS         55              53              54      1877            62\n",
      "3         A         55             549              55       885            51\n",
      "\n",
      " \n",
      " \n",
      " \n",
      " \n",
      "                    loops_maze.txt Results\n",
      "  Algorithm  Path Cost  Nodes Expanded  Max Tree Depth  Max Tree  Max Frontier\n",
      "0       BFS         24              69              23        23             8\n",
      "1       DFS         28              28              27       204            12\n",
      "2      GBFS         36              50              35       270            10\n",
      "3         A         24              63              24        56            10\n",
      "\n",
      " \n",
      " \n",
      " \n",
      " \n",
      "                    wall_maze.txt Results\n",
      "  Algorithm  Path Cost  Nodes Expanded  Max Tree Depth  Max Tree  Max Frontier\n",
      "0       BFS         15              84              15        43            11\n",
      "1       DFS         49              49              49       741            33\n",
      "2      GBFS         17              21              17       182            21\n",
      "3         A         15              66              15       231            22\n",
      "\n",
      " \n",
      " \n",
      " \n",
      " \n"
     ]
    }
   ],
   "source": [
    "# Add code, table, charts.\n",
    "#Table Generator BFS/DFS/BFSS/A*\n",
    "import pandas as pd\n",
    "mazes = [\"empty_2_maze.txt\", \"empty_maze.txt\", \"small_maze.txt\", \"medium_maze.txt\", \"large_maze.txt\", \"open_maze.txt\", \"loops_maze.txt\", \"wall_maze.txt\"]\n",
    "    \n",
    "resultsBFS = []\n",
    "resultsDFS = []\n",
    "resultsGBFS = []\n",
    "resultsA = []\n",
    "resultsAW = []\n",
    "for maze in mazes:\n",
    "    verbose = False\n",
    "    f = open(maze, \"r\")\n",
    "    maze_str = f.read()\n",
    "    maze_master = parse_maze(maze_str)\n",
    "    #print(\"BFS: \", maze)\n",
    "    maze_master = parse_maze(maze_str)\n",
    "    resultsBFS = BFS(maze_master, verbose)\n",
    "    #PrintMaze(resultsBFS[5])\n",
    "    #print(\"DFS: \", maze)\n",
    "    maze_master = parse_maze(maze_str)\n",
    "    resultsDFS = DFS(maze_master, verbose)\n",
    "    #PrintMaze(resultsDFS[5])\n",
    "    #print(\"GBFS: \", maze)\n",
    "    maze_master = parse_maze(maze_str)\n",
    "    resultsGBFS = GBFS(maze_master, verbose)\n",
    "    #PrintMaze(resultsGBFS[5])\n",
    "    #print(\"Astar: \", maze)\n",
    "    maze_master = parse_maze(maze_str)\n",
    "    resultsA = Astar(maze_master, verbose)\n",
    "    #PrintMaze(resultsA[5])\n",
    "    #print(\"AstarW: \", maze)\n",
    "\n",
    "    data = [[\"BFS\", resultsBFS[0], resultsBFS[1], resultsBFS[2], resultsBFS[3], resultsBFS[4]],\n",
    "        [\"DFS\", resultsDFS[0], resultsDFS[1], resultsDFS[2], resultsDFS[3], resultsDFS[4]],\n",
    "        [\"GBFS\", resultsGBFS[0], resultsGBFS[1], resultsGBFS[2], resultsGBFS[3], resultsGBFS[4]],\n",
    "        [\"A\", resultsA[0], resultsA[1], resultsA[2], resultsA[3], resultsA[4]]]\n",
    "    frame = pd.DataFrame(data, columns=[\"Algorithm\", \"Path Cost\", \"Nodes Expanded\" ,\"Max Tree Depth\", \"Max Tree\", \"Max Frontier\"])\n",
    "    print(\"                    \" + maze + \" Results\")\n",
    "    print(frame)\n",
    "    print(\"\\n \\n \\n \\n \")"
   ]
  },
  {
   "cell_type": "markdown",
   "id": "7ddfb3e7",
   "metadata": {},
   "source": [
    "Complete the following table for each maze.\n",
    "\n",
    "__Small maze__\n",
    "\n",
    "| algorithm | path cost | nodes expanded | max tree depth | max tree size | max frontier size |\n",
    "|-----------|-----------|----------------|----------------|---------------|-------------------|\n",
    "| BFS       |           |                |                |               |                   |\n",
    "| DFS       |           |                |                |               |                   |\n",
    "| GBS       |           |                |                |               |                   |\n",
    "| A*        |           |                |                |               |                   |\n",
    "\n",
    "__Medium Maze__\n",
    "\n",
    "..."
   ]
  },
  {
   "cell_type": "markdown",
   "id": "c621de48",
   "metadata": {},
   "source": [
    "Discuss the most important lessons you have learned from implementing the different search strategies. "
   ]
  },
  {
   "cell_type": "markdown",
   "id": "bfca9c5c-83b9-4b0e-9c7f-d43a5c5f7c4f",
   "metadata": {
    "jupyter": {
     "outputs_hidden": false
    }
   },
   "source": [
    "I learned that not every algorithm is optimal for each situation. I wrote a .GIF generator for each of my search algorithms for debugging. I wish I could include it in my submission as the results were very cool to watch. It did not just show my the final path, but every step the algorithm took to achieve the goal state. For example, IDS and A* weighted were unique to watch. I also learned that even simple algorithms such as DFS can beat more complex algorithms just through shear chance. A question I had about my action selection technique: My action selection method always adds the available actions in the same order. So if North is available it will always be chosen first. I added a random(actions) to see what the difference would be. I didn't have the time to do a time study, but would randomizing actions make a difference?"
   ]
  },
  {
   "cell_type": "markdown",
   "id": "a94f73d0",
   "metadata": {},
   "source": [
    "## Graduate student advanced task: Multiple goals [1 point]\n",
    "\n",
    "__Undergraduate students:__ This is a bonus task you can attempt if you like [+1 Bonus point].\n",
    "\n",
    "Create a few mazes with multiple goals by adding one or two more goals to the medium size maze.\n",
    "Solve the maze with your implementations for DFS, BFS, and implement in addition IDS (iterative deepening search using DFS). \n",
    "\n",
    "Run experiments to show which implementations find the optimal solution and which do not. Discuss why that is the case."
   ]
  },
  {
   "cell_type": "code",
   "execution_count": 10,
   "id": "2d1841bc",
   "metadata": {
    "collapsed": false,
    "jupyter": {
     "outputs_hidden": false
    }
   },
   "outputs": [
    {
     "name": "stdout",
     "output_type": "stream",
     "text": [
      "BFS:  medium_maze_2goals1.txt\n"
     ]
    },
    {
     "data": {
      "image/png": "[encoded data removed]",
      "text/plain": [
       "<Figure size 432x288 with 1 Axes>"
      ]
     },
     "metadata": {
      "image/png": {
       "height": 198,
       "width": 380
      },
      "needs_background": "light"
     },
     "output_type": "display_data"
    },
    {
     "name": "stdout",
     "output_type": "stream",
     "text": [
      "DFS:  medium_maze_2goals1.txt\n"
     ]
    },
    {
     "data": {
      "image/png": "[encoded data removed]",
      "text/plain": [
       "<Figure size 432x288 with 1 Axes>"
      ]
     },
     "metadata": {
      "image/png": {
       "height": 198,
       "width": 380
      },
      "needs_background": "light"
     },
     "output_type": "display_data"
    },
    {
     "name": "stdout",
     "output_type": "stream",
     "text": [
      "IDS:  medium_maze_2goals1.txt\n"
     ]
    },
    {
     "data": {
      "image/png": "[encoded data removed]",
      "text/plain": [
       "<Figure size 432x288 with 1 Axes>"
      ]
     },
     "metadata": {
      "image/png": {
       "height": 198,
       "width": 380
      },
      "needs_background": "light"
     },
     "output_type": "display_data"
    },
    {
     "name": "stdout",
     "output_type": "stream",
     "text": [
      "                    medium_maze_2goals1.txt Results\n",
      "  Algorithm  Path Cost  Nodes Expanded  Max Tree Depth  Max Tree  Max Frontier\n",
      "0       BFS         69             266              69       137             9\n",
      "1       DFS        153             152             139       578             8\n",
      "2       IDS         69             189              55       100             7\n",
      "\n",
      " \n",
      " \n",
      " \n",
      " \n",
      "BFS:  medium_maze_2goals2.txt\n"
     ]
    },
    {
     "data": {
      "image/png": "[encoded data removed]",
      "text/plain": [
       "<Figure size 432x288 with 1 Axes>"
      ]
     },
     "metadata": {
      "image/png": {
       "height": 198,
       "width": 380
      },
      "needs_background": "light"
     },
     "output_type": "display_data"
    },
    {
     "name": "stdout",
     "output_type": "stream",
     "text": [
      "DFS:  medium_maze_2goals2.txt\n"
     ]
    },
    {
     "data": {
      "image/png": "[encoded data removed]",
      "text/plain": [
       "<Figure size 432x288 with 1 Axes>"
      ]
     },
     "metadata": {
      "image/png": {
       "height": 198,
       "width": 380
      },
      "needs_background": "light"
     },
     "output_type": "display_data"
    },
    {
     "name": "stdout",
     "output_type": "stream",
     "text": [
      "IDS:  medium_maze_2goals2.txt\n"
     ]
    },
    {
     "data": {
      "image/png": "[encoded data removed]",
      "text/plain": [
       "<Figure size 432x288 with 1 Axes>"
      ]
     },
     "metadata": {
      "image/png": {
       "height": 198,
       "width": 380
      },
      "needs_background": "light"
     },
     "output_type": "display_data"
    },
    {
     "name": "stdout",
     "output_type": "stream",
     "text": [
      "                    medium_maze_2goals2.txt Results\n",
      "  Algorithm  Path Cost  Nodes Expanded  Max Tree Depth  Max Tree  Max Frontier\n",
      "0       BFS         50             187              50       149             9\n",
      "1       DFS         62              61              11        13             4\n",
      "2       IDS         50              87              34       150             7\n",
      "\n",
      " \n",
      " \n",
      " \n",
      " \n",
      "BFS:  medium_maze_3goals1.txt\n"
     ]
    },
    {
     "data": {
      "image/png": "[encoded data removed]",
      "text/plain": [
       "<Figure size 432x288 with 1 Axes>"
      ]
     },
     "metadata": {
      "image/png": {
       "height": 198,
       "width": 380
      },
      "needs_background": "light"
     },
     "output_type": "display_data"
    },
    {
     "name": "stdout",
     "output_type": "stream",
     "text": [
      "DFS:  medium_maze_3goals1.txt\n"
     ]
    },
    {
     "data": {
      "image/png": "[encoded data removed]",
      "text/plain": [
       "<Figure size 432x288 with 1 Axes>"
      ]
     },
     "metadata": {
      "image/png": {
       "height": 198,
       "width": 380
      },
      "needs_background": "light"
     },
     "output_type": "display_data"
    },
    {
     "name": "stdout",
     "output_type": "stream",
     "text": [
      "IDS:  medium_maze_3goals1.txt\n"
     ]
    },
    {
     "data": {
      "image/png": "[encoded data removed]",
      "text/plain": [
       "<Figure size 432x288 with 1 Axes>"
      ]
     },
     "metadata": {
      "image/png": {
       "height": 198,
       "width": 380
      },
      "needs_background": "light"
     },
     "output_type": "display_data"
    },
    {
     "name": "stdout",
     "output_type": "stream",
     "text": [
      "                    medium_maze_3goals1.txt Results\n",
      "  Algorithm  Path Cost  Nodes Expanded  Max Tree Depth  Max Tree  Max Frontier\n",
      "0       BFS         30              80              30       118             5\n",
      "1       DFS        172             236             167       606            10\n",
      "2       IDS         30              48              27        55             5\n",
      "\n",
      " \n",
      " \n",
      " \n",
      " \n",
      "BFS:  medium_maze_3goals1.txt\n"
     ]
    },
    {
     "data": {
      "image/png": "[encoded data removed]",
      "text/plain": [
       "<Figure size 432x288 with 1 Axes>"
      ]
     },
     "metadata": {
      "image/png": {
       "height": 198,
       "width": 380
      },
      "needs_background": "light"
     },
     "output_type": "display_data"
    },
    {
     "name": "stdout",
     "output_type": "stream",
     "text": [
      "DFS:  medium_maze_3goals1.txt\n"
     ]
    },
    {
     "data": {
      "image/png": "[encoded data removed]",
      "text/plain": [
       "<Figure size 432x288 with 1 Axes>"
      ]
     },
     "metadata": {
      "image/png": {
       "height": 198,
       "width": 380
      },
      "needs_background": "light"
     },
     "output_type": "display_data"
    },
    {
     "name": "stdout",
     "output_type": "stream",
     "text": [
      "IDS:  medium_maze_3goals1.txt\n"
     ]
    },
    {
     "data": {
      "image/png": "[encoded data removed]",
      "text/plain": [
       "<Figure size 432x288 with 1 Axes>"
      ]
     },
     "metadata": {
      "image/png": {
       "height": 198,
       "width": 380
      },
      "needs_background": "light"
     },
     "output_type": "display_data"
    },
    {
     "name": "stdout",
     "output_type": "stream",
     "text": [
      "                    medium_maze_3goals1.txt Results\n",
      "  Algorithm  Path Cost  Nodes Expanded  Max Tree Depth  Max Tree  Max Frontier\n",
      "0       BFS         30              80              30       118             5\n",
      "1       DFS        172             236             167       606            10\n",
      "2       IDS         30              48              27        55             5\n",
      "\n",
      " \n",
      " \n",
      " \n",
      " \n"
     ]
    }
   ],
   "source": [
    "# Your code/answer goes here\n",
    "# Iterative Depth Search\n",
    "def IDS(maze, verbose):\n",
    "    depth = 0\n",
    "    start = find_pos(maze, what = \"S\")\n",
    "    goal = find_pos(maze, what = \"G\")\n",
    "    for depth in range(0, 100000):\n",
    "        result = DLS(maze, depth, verbose)\n",
    "        maze[start] = \"S\"\n",
    "        maze[goal] = \"G\"\n",
    "        if result != \"Cutoff\":\n",
    "            return result\n",
    "        \n",
    "    return \"failure\"\n",
    "\n",
    "def DLS(maze, depth, verbose):\n",
    "    cleanMaze(maze)\n",
    "    path_cost = 0;\n",
    "    nodes_expanded = 0;\n",
    "    max_tree_depth = 0;\n",
    "    max_tree_size = 0;\n",
    "    max_frontier = 0; \n",
    "    start = find_pos(maze, what = \"S\")\n",
    "    goal = find_pos(maze, what = \"G\")\n",
    "    root = Node(pos = find_pos(maze, what = \"S\"), parent = None, action = None, cost = 0, distance = 0)\n",
    "    if (root.pos == find_pos(maze, what = \"G\")): return node\n",
    "    frontier = []\n",
    "    frontier.append(root)\n",
    "    cycle = []\n",
    "    result = \"Failure\"\n",
    "   \n",
    "    while(frontier):\n",
    "        node = frontier.pop(len(frontier)-1)\n",
    "        cycle = node.get_path_from_root()\n",
    "        maze[start] = \"S\"\n",
    "        maze[goal] = \"G\"\n",
    "        if(verbose): PrintMaze(maze)  \n",
    "            \n",
    "        if (node.pos == goal):\n",
    "            nodes_expanded = np.count_nonzero(maze == \".\")\n",
    "            path = child.get_path_from_root()\n",
    "            for node in path:\n",
    "                maze[node.pos[0], node.pos[1]] = \"P\"\n",
    "                path_cost += 1\n",
    "            tree = getMaxTreeDepthIDS(frontier)\n",
    "            max_tree_depth = tree[0]\n",
    "            max_tree_size = tree[1]\n",
    "            maze[start] = \"S\"\n",
    "            maze[goal] = \"G\"\n",
    "            result = [path_cost, nodes_expanded, max_tree_depth, max_tree_size, max_frontier, node, maze]\n",
    "            return result\n",
    "    \n",
    "        if DepthIDS(node) > depth:\n",
    "            result = \"Cutoff\"\n",
    "            \n",
    "        elif (cycle.count(node) < 2):\n",
    "            for child in ExpandIDS(maze, node):\n",
    "                if(child.action != \"D\"):\n",
    "                    frontier.append(child)\n",
    "            \n",
    "        if(len(frontier) > max_frontier): max_frontier = len(frontier)\n",
    "        \n",
    "    return result\n",
    "\n",
    "            \n",
    "           \n",
    "def ExpandIDS(maze, node):\n",
    "    pos = node.pos\n",
    "    for action in ActionIDS(maze, pos):\n",
    "        pos1 = ResultIDS(pos, action)\n",
    "        cost = node.cost + ActionCostIDS(pos, action, pos1)\n",
    "        maze[pos] = \".\"\n",
    "        if(action != \"D\"):\n",
    "            maze[pos1] = \"F\"\n",
    "        else:\n",
    "            maze[pos1] = \".\"\n",
    "        yield Node(pos1, node, action, cost, distance = 0)\n",
    "        \n",
    "def ActionIDS(maze, pos):\n",
    "    actions = []     \n",
    "    temp = list(pos)\n",
    "    row = temp[0]\n",
    "    col = temp[1]\n",
    "    if((look(maze, (row-1, col)) == \" \") or (look(maze, (row-1, col)) == \"G\")): #north\n",
    "        actions.append(\"N\")\n",
    "    if((look(maze, (row, col+1)) == \" \") or (look(maze, (row, col+1)) == \"G\")): #east\n",
    "        actions.append(\"E\")\n",
    "    if((look(maze, (row+1, col)) == \" \") or (look(maze, (row+1, col)) == \"G\")): #south\n",
    "        actions.append(\"S\")\n",
    "    if((look(maze, (row, col-1)) == \" \") or (look(maze, (row, col-1)) == \"G\")): #west\n",
    "        actions.append(\"W\")\n",
    "    if not actions: #List Empty\n",
    "        actions.append(\"D\")\n",
    "    return actions\n",
    "\n",
    "def ResultIDS(pos, action):\n",
    "    temp = list(pos)\n",
    "    row = temp[0]\n",
    "    col = temp[1]\n",
    "    if(action == \"N\"):\n",
    "        return (row-1, (col))\n",
    "    if(action == \"E\"):\n",
    "        return (row, col+1)\n",
    "    if(action == \"S\"):\n",
    "        return (row+1, col)\n",
    "    if(action == \"W\"):\n",
    "        return (row, col-1)\n",
    "    return pos\n",
    "\n",
    "def ActionCostIDS(pos, action, pos1):\n",
    "    return 1              \n",
    "\n",
    "def getMaxTreeDepthIDS(frontier):\n",
    "    max_tree_depth = 0\n",
    "    max_tree_size = 0\n",
    "    for node in frontier:\n",
    "        path = node.get_path_from_root()\n",
    "        if(len(path) > max_tree_depth):\n",
    "            max_tree_depth = len(path)\n",
    "        max_tree_size += len(node.get_path_from_root())\n",
    "    return (max_tree_depth, max_tree_size)\n",
    "\n",
    "def DepthIDS(node):\n",
    "    path = node.get_path_from_root()\n",
    "    depth = len(path)\n",
    "    return depth\n",
    "\n",
    "def cleanMaze(maze):\n",
    "    maze[maze==\"F\"] = \" \"\n",
    "    maze[maze==\".\"] = \" \"\n",
    "\n",
    "#############################################################################################################################################################\n",
    "#############################################################################################################################################################            \n",
    "#Testing BFS/DFS/IDS on Medium Maze with multiple goals\n",
    "import pandas as pd\n",
    "mazes = [\"medium_maze_2goals1.txt\", \"medium_maze_2goals2.txt\", \"medium_maze_3goals1.txt\", \"medium_maze_3goals1.txt\"]\n",
    "\n",
    "    \n",
    "resultsBFS = []\n",
    "resultsDFS = []\n",
    "resultsIDS = []\n",
    "verbose = False\n",
    "for maze in mazes:\n",
    "    f = open(maze, \"r\")\n",
    "    maze_str = f.read()\n",
    "    maze_master = parse_maze(maze_str)\n",
    "    print(\"BFS: \", maze)\n",
    "    maze_master = parse_maze(maze_str)\n",
    "    resultsBFS = BFS(maze_master, verbose)\n",
    "    PrintMaze(resultsBFS[6])\n",
    "    print(\"DFS: \", maze)\n",
    "    maze_master = parse_maze(maze_str)\n",
    "    resultsDFS = DFS(maze_master, verbose)\n",
    "    PrintMaze(resultsDFS[6])\n",
    "    print(\"IDS: \", maze)\n",
    "    maze_master = parse_maze(maze_str)\n",
    "    resultsIDS = IDS(maze_master, verbose)\n",
    "    PrintMaze(resultsIDS[6])\n",
    "\n",
    "    data = [[\"BFS\", resultsBFS[0], resultsBFS[1], resultsBFS[2], resultsBFS[3], resultsBFS[4]],\n",
    "        [\"DFS\", resultsDFS[0], resultsDFS[1], resultsDFS[2], resultsDFS[3], resultsDFS[4]],\n",
    "        [\"IDS\", resultsIDS[0], resultsIDS[1], resultsIDS[2], resultsIDS[3], resultsIDS[4]]]\n",
    "    frame = pd.DataFrame(data, columns=[\"Algorithm\", \"Path Cost\", \"Nodes Expanded\" ,\"Max Tree Depth\", \"Max Tree\", \"Max Frontier\"])\n",
    "    print(\"                    \" + maze + \" Results\")\n",
    "    print(frame)\n",
    "    print(\"\\n \\n \\n \\n \")"
   ]
  },
  {
   "cell_type": "markdown",
   "id": "84066ca1-624e-42f1-a97c-9de8637bcf4a",
   "metadata": {},
   "source": [
    "# Notes on BFS/DFS/IDS multiple Goals\n",
    "DFS consistently preformed the worst as both BFS and IDS had a better chance of finding a goal. Both BFS and IDS spread out the search tree along multiple branches while DFS gambles by picking one. In this case, the multiple goals allowed BFS and IDS to find the goal state faster. "
   ]
  },
  {
   "cell_type": "markdown",
   "id": "36d30ba0",
   "metadata": {},
   "source": [
    "## More advanced tasks to think about\n",
    "\n",
    "Instead of defining each square as a state, use only intersections as states. Now the storage requirement is reduced, but the path length between two intersections can be different. If we use total path length measured as the number of squares as path cost, how can we make sure that BFS and iterative deepening search is optimal? Change the code to do so."
   ]
  },
  {
   "cell_type": "code",
   "execution_count": 14,
   "id": "f89323a4",
   "metadata": {
    "collapsed": false,
    "jupyter": {
     "outputs_hidden": false
    }
   },
   "outputs": [
    {
     "name": "stdout",
     "output_type": "stream",
     "text": [
      "              BFS Medium Maze Intersection\n"
     ]
    },
    {
     "data": {
      "image/png": "[encoded data removed]",
      "text/plain": [
       "<Figure size 432x288 with 1 Axes>"
      ]
     },
     "metadata": {
      "image/png": {
       "height": 198,
       "width": 380
      },
      "needs_background": "light"
     },
     "output_type": "display_data"
    },
    {
     "name": "stdout",
     "output_type": "stream",
     "text": [
      "  Algorithm  Path Cost  Nodes Expanded\n",
      "0       BFS         82             257\n",
      "\n",
      " \n",
      " \n",
      " \n",
      " \n"
     ]
    }
   ],
   "source": [
    "#Breadth First Search Modified For Intersections\n",
    "def MazeMod(maze):\n",
    "    for col in maze:\n",
    "        for row in col:\n",
    "            if(len(ActionsBFS(maze, [row, col])) > 1):\n",
    "                maze[row, col] = \"F\"\n",
    "\n",
    "def BFSmod(maze, verbose):\n",
    "    path_cost = 0;\n",
    "    nodes_expanded = 0;\n",
    "    max_tree_depth = 0;\n",
    "    max_tree_size = 0;\n",
    "    max_frontier = 0; \n",
    "    start = find_pos(maze, what = \"S\")\n",
    "    goal = find_pos(maze, what = \"G\")\n",
    "    node = Node(pos = find_pos(maze, what = \"S\"), parent = None, action = None, cost = 0, distance = 0)\n",
    "    if (node.pos == find_pos(maze, what = \"G\")): return node\n",
    "    frontier = []\n",
    "    reached = []\n",
    "    reachedNodes = []\n",
    "    frontier.append(node)\n",
    "    \n",
    "    while(frontier):\n",
    "        n = frontier.pop(0)\n",
    "        for child in ExpandBFSmod(maze, n, reachedNodes):\n",
    "            maze[start] = \"S\"\n",
    "            maze[goal] = \"G\"\n",
    "            if(verbose): PrintMaze(maze)           \n",
    "            if (child.pos == goal):\n",
    "                nodes_expanded = np.count_nonzero(maze == \".\")\n",
    "                path = child.get_path_from_root()\n",
    "                for node in path:\n",
    "                    maze[node.pos[0], node.pos[1]] = \"P\"\n",
    "                    path_cost += node.cost\n",
    "                tree = getMaxTreeDepthBFSmod(frontier)\n",
    "                max_tree_depth = tree[0]\n",
    "                max_tree_size = tree[1]\n",
    "                maze[start] = \"S\"\n",
    "                maze[goal] = \"G\"\n",
    "                print(\"              BFS Medium Maze Intersection\")\n",
    "                PrintMaze(maze)\n",
    "                result = [path_cost, nodes_expanded, max_tree_depth, max_tree_size, max_frontier, child, maze]\n",
    "                return result         \n",
    "            if child.pos not in reached:\n",
    "                reached.append(child.pos)\n",
    "                reachedNodes.append(child)\n",
    "                frontier.append(child)  \n",
    "            if(len(frontier) > max_frontier): max_frontier = len(frontier)\n",
    "    print(\"BFSmod Failure\")\n",
    "    return \"Failure\"\n",
    "            \n",
    "def ExpandBFSmod(maze, node, reachedNodes):\n",
    "    pos = node.pos\n",
    "    action = [1]\n",
    "    pos1 = []\n",
    "    cost = 0\n",
    "    deadEndCount = 0\n",
    "    while(True): #intersetcion\n",
    "        action = ActionBFSmod(maze, pos)\n",
    "        pos1 = ResultBFSmod(pos, action[0])\n",
    "        cost += 1\n",
    "        if(action.count(\"D\") > 0):\n",
    "            cost = 0\n",
    "            pos = node.pos\n",
    "            deadEndCount += 1\n",
    "            if(deadEndCount >= 10):\n",
    "                node = reachedNodes.pop(0)\n",
    "                cost = 0\n",
    "                pos = node.pos\n",
    "            continue\n",
    "        if(look(maze, pos) != \"S\"):\n",
    "            if((len(ActionBFSmod(maze, pos1)) > 1) or (look(maze, pos1) == \"G\")):\n",
    "                cost += 1\n",
    "                maze[pos1] = \"F\"\n",
    "                if(verbose): PrintMaze(maze) \n",
    "                yield Node(pos1, node, action[0], cost, distance = 0)\n",
    "                break\n",
    "        if(maze[pos1] != \"F\"): maze[pos1] = \".\"\n",
    "        pos = pos1\n",
    "        if(verbose): PrintMaze(maze) \n",
    "        \n",
    "\n",
    "\n",
    "        \n",
    "def ActionBFSmod(maze, pos):\n",
    "    import random\n",
    "    actions = []     \n",
    "    temp = list(pos)\n",
    "    row = temp[0]\n",
    "    col = temp[1]\n",
    "    if((look(maze, (row-1, col)) == \" \") or (look(maze, (row-1, col)) == \"G\")): #north\n",
    "        actions.append(\"N\")\n",
    "    if((look(maze, (row, col+1)) == \" \") or (look(maze, (row, col+1)) == \"G\")): #east\n",
    "        actions.append(\"E\")\n",
    "    if((look(maze, (row+1, col)) == \" \") or (look(maze, (row+1, col)) == \"G\")): #south\n",
    "        actions.append(\"S\")\n",
    "    if((look(maze, (row, col-1)) == \" \") or (look(maze, (row, col-1)) == \"G\")): #west\n",
    "        actions.append(\"W\")\n",
    "    if not actions: #List Empty\n",
    "        actions.append(\"D\")\n",
    "    random.shuffle(actions)  \n",
    "    return actions\n",
    "\n",
    "def ResultBFSmod(pos, action):\n",
    "    temp = list(pos)\n",
    "    row = temp[0]\n",
    "    col = temp[1]\n",
    "    if(action == \"N\"):\n",
    "        return (row-1, (col))\n",
    "    if(action == \"E\"):\n",
    "        return (row, col+1)\n",
    "    if(action == \"S\"):\n",
    "        return (row+1, col)\n",
    "    if(action == \"W\"):\n",
    "        return (row, col-1)\n",
    "    return pos\n",
    "\n",
    "def ActionCostBFSmod(pos, action, pos1):\n",
    "    return 1              \n",
    "\n",
    "def getMaxTreeDepthBFSmod(frontier):\n",
    "    max_tree_depth = 0\n",
    "    max_tree_size = 0\n",
    "    for node in frontier:\n",
    "        path = node.get_path_from_root()\n",
    "        if(len(path) > max_tree_depth):\n",
    "            max_tree_depth = len(path)\n",
    "        max_tree_size += len(node.get_path_from_root())\n",
    "    return (max_tree_depth, max_tree_size)\n",
    "\n",
    "\n",
    "#############################################################################################################################################################\n",
    "#############################################################################################################################################################\n",
    "# Iterative Depth Search Modified For Intersections\n",
    "def IDSmod(maze, verbose):\n",
    "    depth = 0\n",
    "    start = find_pos(maze, what = \"S\")\n",
    "    goal = find_pos(maze, what = \"G\")\n",
    "    for depth in range(0, 100000):\n",
    "        result = DLS(maze, depth, verbose)\n",
    "        maze[start] = \"S\"\n",
    "        maze[goal] = \"G\"\n",
    "        if result != \"Cutoff\":\n",
    "            return result\n",
    "        \n",
    "    return \"failure\"\n",
    "\n",
    "def DLS(maze, depth, verbose):\n",
    "    cleanMazeIDSmod(maze)\n",
    "    path_cost = 0;\n",
    "    nodes_expanded = 0;\n",
    "    max_tree_depth = 0;\n",
    "    max_tree_size = 0;\n",
    "    max_frontier = 0; \n",
    "    start = find_pos(maze, what = \"S\")\n",
    "    goal = find_pos(maze, what = \"G\")\n",
    "    root = Node(pos = find_pos(maze, what = \"S\"), parent = None, action = None, cost = 0, distance = 0)\n",
    "    if (root.pos == find_pos(maze, what = \"G\")): return node\n",
    "    frontier = []\n",
    "    frontier.append(root)\n",
    "    cycle = []\n",
    "    result = \"Failure\"\n",
    "   \n",
    "    while(frontier):\n",
    "        node = frontier.pop(len(frontier)-1)\n",
    "        cycle = node.get_path_from_root()\n",
    "        maze[start] = \"S\"\n",
    "        maze[goal] = \"G\"\n",
    "        if(verbose): PrintMaze(maze)  \n",
    "            \n",
    "        if (node.pos == goal):\n",
    "            nodes_expanded = np.count_nonzero(maze == \".\")\n",
    "            tree = getMaxTreeDepthIDSmod(frontier)\n",
    "            max_tree_depth = tree[0]\n",
    "            max_tree_size = tree[1]\n",
    "            for node in path:\n",
    "                maze[node.pos[0], node.pos[1]] = \"P\"\n",
    "                path_cost += 1\n",
    "            max_tree_depth = getMaxTreeDepthIDS(frontier)\n",
    "            maze[start] = \"S\"\n",
    "            maze[goal] = \"G\"\n",
    "            result = [path_cost, nodes_expanded, max_tree_depth, max_tree_size, max_frontier, node, maze]\n",
    "            return result\n",
    "    \n",
    "        if DepthIDS(node) > depth:\n",
    "            result = \"Cutoff\"\n",
    "            \n",
    "        elif (cycle.count(node) < 2):\n",
    "            for child in ExpandIDS(maze, node):\n",
    "                if(child.action != \"D\"):\n",
    "                    frontier.append(child)\n",
    "            \n",
    "        if(len(frontier) > max_frontier): max_frontier = len(frontier)\n",
    "        \n",
    "    return result\n",
    "\n",
    "            \n",
    "           \n",
    "def ExpandIDSmod(maze, node, reachedNodes):\n",
    "    pos = node.pos\n",
    "    action = [1]\n",
    "    pos1 = []\n",
    "    cost = 0\n",
    "    deadEndCount = 0\n",
    "    while(True): #intersetcion\n",
    "        action = ActionIDSmod(maze, pos)\n",
    "        pos1 = ResultIDSmod(pos, action[0])\n",
    "        cost += 1\n",
    "        if(action.count(\"D\") > 0):\n",
    "            cost = 0\n",
    "            pos = node.pos\n",
    "            deadEndCount += 1\n",
    "            if(deadEndCount >= 10):\n",
    "                node = reachedNodes.pop(0)\n",
    "                cost = node.cost\n",
    "                pos = node.pos\n",
    "            continue\n",
    "        if(look(maze, pos) != \"S\"):\n",
    "            if((len(ActionIDSmod(maze, pos1)) > 1) or (look(maze, pos1) == \"G\")):\n",
    "                cost += 1\n",
    "                maze[pos1] = \"F\"\n",
    "                if(verbose): PrintMaze(maze) \n",
    "                yield Node(pos1, node, action[0], cost, distance = 0)\n",
    "                break\n",
    "        if(maze[pos1] != \"F\"): maze[pos1] = \".\"\n",
    "        pos = pos1\n",
    "        if(verbose): PrintMaze(maze) \n",
    "        \n",
    "def ActionIDSmod(maze, pos):\n",
    "    actions = []     \n",
    "    temp = list(pos)\n",
    "    row = temp[0]\n",
    "    col = temp[1]\n",
    "    if((look(maze, (row-1, col)) == \" \") or (look(maze, (row-1, col)) == \"G\")): #north\n",
    "        actions.append(\"N\")\n",
    "    if((look(maze, (row, col+1)) == \" \") or (look(maze, (row, col+1)) == \"G\")): #east\n",
    "        actions.append(\"E\")\n",
    "    if((look(maze, (row+1, col)) == \" \") or (look(maze, (row+1, col)) == \"G\")): #south\n",
    "        actions.append(\"S\")\n",
    "    if((look(maze, (row, col-1)) == \" \") or (look(maze, (row, col-1)) == \"G\")): #west\n",
    "        actions.append(\"W\")\n",
    "    if not actions: #List Empty\n",
    "        actions.append(\"D\")\n",
    "    return actions\n",
    "\n",
    "def ResultIDSmod(pos, action):\n",
    "    temp = list(pos)\n",
    "    row = temp[0]\n",
    "    col = temp[1]\n",
    "    if(action == \"N\"):\n",
    "        return (row-1, (col))\n",
    "    if(action == \"E\"):\n",
    "        return (row, col+1)\n",
    "    if(action == \"S\"):\n",
    "        return (row+1, col)\n",
    "    if(action == \"W\"):\n",
    "        return (row, col-1)\n",
    "    return pos\n",
    "\n",
    "def ActionCostIDSmod(pos, action, pos1):\n",
    "    return 1              \n",
    "\n",
    "def getMaxTreeDepthIDSmod(frontier):\n",
    "    max_tree_depth = 0\n",
    "    max_tree_size = 0\n",
    "    for node in frontier:\n",
    "        path = node.get_path_from_root()\n",
    "        if(len(path) > max_tree_depth):\n",
    "            max_tree_depth = len(path)\n",
    "        max_tree_size += len(node.get_path_from_root())\n",
    "    return (max_tree_depth, max_tree_size)\n",
    "\n",
    "def DepthIDSmod(node):\n",
    "    path = node.get_path_from_root()\n",
    "    depth = len(path)\n",
    "    return depth\n",
    "\n",
    "def cleanMazeIDSmod(maze):\n",
    "    maze[maze==\"F\"] = \" \"\n",
    "    maze[maze==\".\"] = \" \"\n",
    "\n",
    "#############################################################################################################################################################\n",
    "#############################################################################################################################################################\n",
    "#Display BFS/IDS Intersection Results search results\n",
    "    \n",
    "ClearPrint()\n",
    "f = open(\"medium_maze.txt\", \"r\")\n",
    "maze_str = f.read()\n",
    "maze = parse_maze(maze_str)\n",
    "master_maze = maze\n",
    "verbose = False\n",
    "resultsBFS = BFSmod(master_maze, verbose)\n",
    "resultsIDS = IDSmod(master_maze, verbose)\n",
    "data = [[\"BFS\", resultsBFS[0], resultsBFS[1]]]\n",
    "frame = pd.DataFrame(data, columns=[\"Algorithm\", \"Path Cost\", \"Nodes Expanded\"])\n",
    "print(frame)\n",
    "print(\"\\n \\n \\n \\n \")"
   ]
  },
  {
   "cell_type": "markdown",
   "id": "38a78e20-88da-458b-9859-df55abb27650",
   "metadata": {},
   "source": [
    "# BFS/IDS Intersection Discussion\n",
    "I modified the expand function to check if nodes have more than one action available to them. If they did, it meant they were an intersection. If the node only had one action, it was iterated inside the expand function without adding to the tree. If the path ran into a dead end, the previous node was pulled from a list of previous nodes and allowed to choose a different action. The path cost was reset to the previous node. In the figure above, the red tiles are the intersections the algorithm choose as the optimal path. I ran into many issues implementing this but finally got it to work. The .GIF file of this is very fun to watch. \n",
    "* Issues with running into dead ends\n",
    "    Need to return to previous intersection and pick a new action and reset path cost\n",
    "* Issues with running into other intersections which blocked the path.\n",
    "    Needed to add exception to available actions selector\n",
    "* Issues with Intersections running into each other and not seeing each other\n"
   ]
  },
  {
   "cell_type": "markdown",
   "id": "d8671227",
   "metadata": {},
   "source": [
    "Modify your A* search to add weights (see text book) and explore how different weights influence the result."
   ]
  },
  {
   "cell_type": "code",
   "execution_count": 12,
   "id": "2e5781a4",
   "metadata": {
    "collapsed": false,
    "jupyter": {
     "outputs_hidden": false
    }
   },
   "outputs": [
    {
     "name": "stdout",
     "output_type": "stream",
     "text": [
      "AstarW(1):  open_maze.txt\n"
     ]
    },
    {
     "data": {
      "image/png": "[encoded data removed]",
      "text/plain": [
       "<Figure size 432x288 with 1 Axes>"
      ]
     },
     "metadata": {
      "image/png": {
       "height": 239,
       "width": 368
      },
      "needs_background": "light"
     },
     "output_type": "display_data"
    },
    {
     "name": "stdout",
     "output_type": "stream",
     "text": [
      "AstarW(5):  open_maze.txt\n"
     ]
    },
    {
     "data": {
      "image/png": "[encoded data removed]",
      "text/plain": [
       "<Figure size 432x288 with 1 Axes>"
      ]
     },
     "metadata": {
      "image/png": {
       "height": 239,
       "width": 368
      },
      "needs_background": "light"
     },
     "output_type": "display_data"
    },
    {
     "name": "stdout",
     "output_type": "stream",
     "text": [
      "AstarW(10):  open_maze.txt\n"
     ]
    },
    {
     "data": {
      "image/png": "[encoded data removed]",
      "text/plain": [
       "<Figure size 432x288 with 1 Axes>"
      ]
     },
     "metadata": {
      "image/png": {
       "height": 239,
       "width": 368
      },
      "needs_background": "light"
     },
     "output_type": "display_data"
    },
    {
     "name": "stdout",
     "output_type": "stream",
     "text": [
      "AstarW(100):  open_maze.txt\n"
     ]
    },
    {
     "data": {
      "image/png": "[encoded data removed]",
      "text/plain": [
       "<Figure size 432x288 with 1 Axes>"
      ]
     },
     "metadata": {
      "image/png": {
       "height": 239,
       "width": 368
      },
      "needs_background": "light"
     },
     "output_type": "display_data"
    },
    {
     "name": "stdout",
     "output_type": "stream",
     "text": [
      "AstarW(.1):  open_maze.txt\n"
     ]
    },
    {
     "data": {
      "image/png": "[encoded data removed]",
      "text/plain": [
       "<Figure size 432x288 with 1 Axes>"
      ]
     },
     "metadata": {
      "image/png": {
       "height": 239,
       "width": 368
      },
      "needs_background": "light"
     },
     "output_type": "display_data"
    },
    {
     "name": "stdout",
     "output_type": "stream",
     "text": [
      "                    open_maze.txt Results\n",
      "        A*  Path Cost  Nodes Expanded  Max Tree Depth  Max Tree  Max Frontier\n",
      "0    W = 1         55             570              55       885            51\n",
      "1    W = 5         55             115              54      1877            62\n",
      "2   W = 10         55             115              54      1877            62\n",
      "3  W = 100         55             115              54      1877            62\n",
      "4   W = .1         55             683              55       214            24\n",
      "\n",
      " \n",
      " \n",
      " \n",
      " \n",
      "AstarW(1):  small_maze.txt\n"
     ]
    },
    {
     "data": {
      "image/png": "[encoded data removed]",
      "text/plain": [
       "<Figure size 432x288 with 1 Axes>"
      ]
     },
     "metadata": {
      "image/png": {
       "height": 183,
       "width": 362
      },
      "needs_background": "light"
     },
     "output_type": "display_data"
    },
    {
     "name": "stdout",
     "output_type": "stream",
     "text": [
      "AstarW(5):  small_maze.txt\n"
     ]
    },
    {
     "data": {
      "image/png": "[encoded data removed]",
      "text/plain": [
       "<Figure size 432x288 with 1 Axes>"
      ]
     },
     "metadata": {
      "image/png": {
       "height": 183,
       "width": 362
      },
      "needs_background": "light"
     },
     "output_type": "display_data"
    },
    {
     "name": "stdout",
     "output_type": "stream",
     "text": [
      "AstarW(10):  small_maze.txt\n"
     ]
    },
    {
     "data": {
      "image/png": "[encoded data removed]",
      "text/plain": [
       "<Figure size 432x288 with 1 Axes>"
      ]
     },
     "metadata": {
      "image/png": {
       "height": 183,
       "width": 362
      },
      "needs_background": "light"
     },
     "output_type": "display_data"
    },
    {
     "name": "stdout",
     "output_type": "stream",
     "text": [
      "AstarW(100):  small_maze.txt\n"
     ]
    },
    {
     "data": {
      "image/png": "[encoded data removed]",
      "text/plain": [
       "<Figure size 432x288 with 1 Axes>"
      ]
     },
     "metadata": {
      "image/png": {
       "height": 183,
       "width": 362
      },
      "needs_background": "light"
     },
     "output_type": "display_data"
    },
    {
     "name": "stdout",
     "output_type": "stream",
     "text": [
      "AstarW(.1):  small_maze.txt\n"
     ]
    },
    {
     "data": {
      "image/png": "[encoded data removed]",
      "text/plain": [
       "<Figure size 432x288 with 1 Axes>"
      ]
     },
     "metadata": {
      "image/png": {
       "height": 183,
       "width": 362
      },
      "needs_background": "light"
     },
     "output_type": "display_data"
    },
    {
     "name": "stdout",
     "output_type": "stream",
     "text": [
      "                    small_maze.txt Results\n",
      "        A*  Path Cost  Nodes Expanded  Max Tree Depth  Max Tree  Max Frontier\n",
      "0    W = 1         20              60              17        48             7\n",
      "1    W = 5         30              62              19        31             4\n",
      "2   W = 10         30              57              19        39             4\n",
      "3  W = 100         30              43              19        40             5\n",
      "4   W = .1         20              91              19        19             8\n",
      "\n",
      " \n",
      " \n",
      " \n",
      " \n",
      "AstarW(1):  medium_maze.txt\n"
     ]
    },
    {
     "data": {
      "image/png": "[encoded data removed]",
      "text/plain": [
       "<Figure size 432x288 with 1 Axes>"
      ]
     },
     "metadata": {
      "image/png": {
       "height": 198,
       "width": 380
      },
      "needs_background": "light"
     },
     "output_type": "display_data"
    },
    {
     "name": "stdout",
     "output_type": "stream",
     "text": [
      "AstarW(5):  medium_maze.txt\n"
     ]
    },
    {
     "data": {
      "image/png": "[encoded data removed]",
      "text/plain": [
       "<Figure size 432x288 with 1 Axes>"
      ]
     },
     "metadata": {
      "image/png": {
       "height": 198,
       "width": 380
      },
      "needs_background": "light"
     },
     "output_type": "display_data"
    },
    {
     "name": "stdout",
     "output_type": "stream",
     "text": [
      "AstarW(10):  medium_maze.txt\n"
     ]
    },
    {
     "data": {
      "image/png": "[encoded data removed]",
      "text/plain": [
       "<Figure size 432x288 with 1 Axes>"
      ]
     },
     "metadata": {
      "image/png": {
       "height": 198,
       "width": 380
      },
      "needs_background": "light"
     },
     "output_type": "display_data"
    },
    {
     "name": "stdout",
     "output_type": "stream",
     "text": [
      "AstarW(100):  medium_maze.txt\n"
     ]
    },
    {
     "data": {
      "image/png": "[encoded data removed]",
      "text/plain": [
       "<Figure size 432x288 with 1 Axes>"
      ]
     },
     "metadata": {
      "image/png": {
       "height": 198,
       "width": 380
      },
      "needs_background": "light"
     },
     "output_type": "display_data"
    },
    {
     "name": "stdout",
     "output_type": "stream",
     "text": [
      "AstarW(.1):  medium_maze.txt\n"
     ]
    },
    {
     "data": {
      "image/png": "[encoded data removed]",
      "text/plain": [
       "<Figure size 432x288 with 1 Axes>"
      ]
     },
     "metadata": {
      "image/png": {
       "height": 198,
       "width": 380
      },
      "needs_background": "light"
     },
     "output_type": "display_data"
    },
    {
     "name": "stdout",
     "output_type": "stream",
     "text": [
      "                    medium_maze.txt Results\n",
      "        A*  Path Cost  Nodes Expanded  Max Tree Depth  Max Tree  Max Frontier\n",
      "0    W = 1         69             230              64       200             8\n",
      "1    W = 5         69             206              80       180             7\n",
      "2   W = 10        153             192             139       498             6\n",
      "3  W = 100        153             167             139       585             8\n",
      "4   W = .1         69             268              69       271             8\n",
      "\n",
      " \n",
      " \n",
      " \n",
      " \n",
      "AstarW(1):  large_maze.txt\n"
     ]
    },
    {
     "data": {
      "image/png": "[encoded data removed]",
      "text/plain": [
       "<Figure size 432x288 with 1 Axes>"
      ]
     },
     "metadata": {
      "image/png": {
       "height": 249,
       "width": 251
      },
      "needs_background": "light"
     },
     "output_type": "display_data"
    },
    {
     "name": "stdout",
     "output_type": "stream",
     "text": [
      "AstarW(5):  large_maze.txt\n"
     ]
    },
    {
     "data": {
      "image/png": "[encoded data removed]",
      "text/plain": [
       "<Figure size 432x288 with 1 Axes>"
      ]
     },
     "metadata": {
      "image/png": {
       "height": 249,
       "width": 251
      },
      "needs_background": "light"
     },
     "output_type": "display_data"
    },
    {
     "name": "stdout",
     "output_type": "stream",
     "text": [
      "AstarW(10):  large_maze.txt\n"
     ]
    },
    {
     "data": {
      "image/png": "[encoded data removed]",
      "text/plain": [
       "<Figure size 432x288 with 1 Axes>"
      ]
     },
     "metadata": {
      "image/png": {
       "height": 249,
       "width": 251
      },
      "needs_background": "light"
     },
     "output_type": "display_data"
    },
    {
     "name": "stdout",
     "output_type": "stream",
     "text": [
      "AstarW(100):  large_maze.txt\n"
     ]
    },
    {
     "data": {
      "image/png": "[encoded data removed]",
      "text/plain": [
       "<Figure size 432x288 with 1 Axes>"
      ]
     },
     "metadata": {
      "image/png": {
       "height": 249,
       "width": 251
      },
      "needs_background": "light"
     },
     "output_type": "display_data"
    },
    {
     "name": "stdout",
     "output_type": "stream",
     "text": [
      "AstarW(.1):  large_maze.txt\n"
     ]
    },
    {
     "data": {
      "image/png": "[encoded data removed]",
      "text/plain": [
       "<Figure size 432x288 with 1 Axes>"
      ]
     },
     "metadata": {
      "image/png": {
       "height": 249,
       "width": 251
      },
      "needs_background": "light"
     },
     "output_type": "display_data"
    },
    {
     "name": "stdout",
     "output_type": "stream",
     "text": [
      "                    large_maze.txt Results\n",
      "        A*  Path Cost  Nodes Expanded  Max Tree Depth  Max Tree  Max Frontier\n",
      "0    W = 1        211             565             210      1554            10\n",
      "1    W = 5        211             522             210      2459            15\n",
      "2   W = 10        211             505             210      2797            18\n",
      "3  W = 100        211             491             210      2973            20\n",
      "4   W = .1        211             620             211       631             8\n",
      "\n",
      " \n",
      " \n",
      " \n",
      " \n"
     ]
    }
   ],
   "source": [
    "#############################################################################################################################################################\n",
    "#############################################################################################################################################################\n",
    "#A* Weighted Search\n",
    "def AstarW(maze, verbose, weight):\n",
    "    path_cost = 0;\n",
    "    nodes_expanded = 0;\n",
    "    max_tree_depth = 0;\n",
    "    max_tree_size = 0;\n",
    "    max_frontier = 0; \n",
    "    start = find_pos(maze, what = \"S\")\n",
    "    goal = find_pos(maze, what = \"G\")\n",
    "    node = Node(pos = find_pos(maze, what = \"S\"), parent = None, action = None, cost = 0, distance = 0)\n",
    "    if (node.pos == find_pos(maze, what = \"G\")): return node\n",
    "    frontier = []\n",
    "    reached = []\n",
    "    frontier.append(node)\n",
    "    reached = {start : node}\n",
    "    \n",
    "    while(frontier):\n",
    "        EuclideanDistanceAW(frontier, start, goal, weight)\n",
    "        frontier.sort(key=DistanceAW)\n",
    "        n = frontier.pop(0)\n",
    "        if (n.pos == goal):\n",
    "            path = n.get_path_from_root()\n",
    "            for node in path:\n",
    "                maze[node.pos[0], node.pos[1]] = \"P\"\n",
    "                path_cost += 1\n",
    "            tree = getMaxTreeDepthAW(frontier)\n",
    "            max_tree_depth = tree[0]\n",
    "            max_tree_size = tree[1]            \n",
    "            maze[start] = \"S\"\n",
    "            maze[goal] = \"G\"\n",
    "            PrintMaze(maze)\n",
    "            result = [path_cost, nodes_expanded, max_tree_depth, max_tree_size, max_frontier, n, maze]\n",
    "            return result\n",
    "        \n",
    "        for child in ExpandAW(maze, n):\n",
    "            maze[start] = \"S\"\n",
    "            maze[goal] = \"G\"\n",
    "            if(verbose): PrintMaze(maze)  \n",
    "            pos = child.pos\n",
    "            if ((pos not in reached) or (child.distance < reached[pos].distance) and (child.action != \"D\")):\n",
    "                reached[pos] = child\n",
    "                frontier.append(child)\n",
    "                nodes_expanded += 1\n",
    "  \n",
    "            if(len(frontier) > max_frontier): max_frontier = len(frontier)\n",
    "\n",
    "    print(\"BFS failure\")\n",
    "    return 0           \n",
    "\n",
    "def ExpandAW(maze, node):\n",
    "    pos = node.pos\n",
    "    for action in ActionAW(maze, pos):\n",
    "        pos1 = ResultAW(pos, action)\n",
    "        cost = node.cost + ActionCostAW(pos, action, pos1)\n",
    "        maze[pos] = \".\"\n",
    "        if(action != \"D\"):\n",
    "            maze[pos1] = \"F\"\n",
    "        else:\n",
    "            maze[pos1] = \".\"\n",
    "        yield Node(pos1, node, action, cost, 0)\n",
    "        \n",
    "def ActionAW(maze, pos):\n",
    "    actions = []     \n",
    "    temp = list(pos)\n",
    "    row = temp[0]\n",
    "    col = temp[1]\n",
    "    if((look(maze, (row-1, col)) == \" \") or (look(maze, (row-1, col)) == \"G\")): #north\n",
    "        actions.append(\"N\")\n",
    "    if((look(maze, (row, col+1)) == \" \") or (look(maze, (row, col+1)) == \"G\")): #east\n",
    "        actions.append(\"E\")\n",
    "    if((look(maze, (row+1, col)) == \" \") or (look(maze, (row+1, col)) == \"G\")): #south\n",
    "        actions.append(\"S\")\n",
    "    if((look(maze, (row, col-1)) == \" \") or (look(maze, (row, col-1)) == \"G\")): #west\n",
    "        actions.append(\"W\")\n",
    "    if not actions: #List Empty\n",
    "        actions.append(\"D\")\n",
    "    return actions\n",
    "\n",
    "def ResultAW(pos, action):\n",
    "    temp = list(pos)\n",
    "    row = temp[0]\n",
    "    col = temp[1]\n",
    "    if(action == \"N\"):\n",
    "        return (row-1, (col))\n",
    "    if(action == \"E\"):\n",
    "        return (row, col+1)\n",
    "    if(action == \"S\"):\n",
    "        return (row+1, col)\n",
    "    if(action == \"W\"):\n",
    "        return (row, col-1)\n",
    "    return pos\n",
    "\n",
    "def ActionCostAW(pos, action, pos1):\n",
    "    return 1              \n",
    "\n",
    "def getMaxTreeDepthAW(frontier):\n",
    "    max_tree_depth = 0\n",
    "    max_tree_size = 0\n",
    "    for node in frontier:\n",
    "        path = node.get_path_from_root()\n",
    "        if(len(path) > max_tree_depth):\n",
    "            max_tree_depth = len(path)\n",
    "        max_tree_size += len(node.get_path_from_root())\n",
    "    return (max_tree_depth, max_tree_size)\n",
    "\n",
    "def EuclideanDistanceAW(frontier, start, goal, weight):\n",
    "    import math\n",
    "    tempG = list(goal)\n",
    "    rowG = tempG[0]\n",
    "    colG = tempG[1]\n",
    "    for node in frontier:\n",
    "        dStart = 0\n",
    "        dGoal = 0\n",
    "        path = node.get_path_from_root()\n",
    "        for node in path:\n",
    "            dStart += 1\n",
    "        tempG = list(node.pos)\n",
    "        row = tempG[0]\n",
    "        col = tempG[1]\n",
    "        dGoal = math.hypot((rowG - row),(colG - col))    \n",
    "        node.distance = dStart + dGoal*weight\n",
    "\n",
    "def DistanceAW(d):\n",
    "    return d.distance\n",
    "\n",
    "#############################################################################################################################################################\n",
    "#############################################################################################################################################################\n",
    "#Display A*weighted search results\n",
    "import pandas as pd\n",
    "mazes = [\"open_maze.txt\", \"small_maze.txt\", \"medium_maze.txt\", \"large_maze.txt\"]\n",
    "    \n",
    "resultsAW1 = []\n",
    "resultsAW5 = []\n",
    "resultsAW10 = []\n",
    "resultsAW05 = []\n",
    "resultsAW010 = []\n",
    "for maze in mazes:\n",
    "    verbose = False\n",
    "    f = open(maze, \"r\")\n",
    "    maze_str = f.read()\n",
    "    maze_master = parse_maze(maze_str)\n",
    "    print(\"AstarW(1): \", maze)\n",
    "    maze_master = parse_maze(maze_str)\n",
    "    resultsAW1 = AstarW(maze_master, verbose, 1)\n",
    "    print(\"AstarW(5): \", maze)\n",
    "    maze_master = parse_maze(maze_str)\n",
    "    resultsAW5 = AstarW(maze_master, verbose, 5)\n",
    "    print(\"AstarW(10): \", maze)\n",
    "    maze_master = parse_maze(maze_str)\n",
    "    resultsAW10 = AstarW(maze_master, verbose, 10)\n",
    "    print(\"AstarW(100): \", maze)\n",
    "    maze_master = parse_maze(maze_str)\n",
    "    resultsAW05 = AstarW(maze_master, verbose, 100)\n",
    "    print(\"AstarW(.1): \", maze)\n",
    "    maze_master = parse_maze(maze_str)\n",
    "    resultsAW010 = AstarW(maze_master, verbose, .1)\n",
    "    data = [[\"W = 1\", resultsAW1[0], resultsAW1[1], resultsAW1[2], resultsAW1[3], resultsAW1[4]],\n",
    "        [\"W = 5\", resultsAW5[0], resultsAW5[1], resultsAW5[2], resultsAW5[3], resultsAW5[4]],\n",
    "        [\"W = 10\", resultsAW10[0], resultsAW10[1], resultsAW10[2], resultsAW10[3], resultsAW10[4]],\n",
    "        [\"W = 100\", resultsAW05[0], resultsAW05[1], resultsAW05[2], resultsAW05[3], resultsAW05[4]],\n",
    "        [\"W = .1\", resultsAW010[0], resultsAW010[1], resultsAW010[2], resultsAW010[3], resultsAW010[4]]]\n",
    "    frame = pd.DataFrame(data, columns=[\"A*\", \"Path Cost\", \"Nodes Expanded\" ,\"Max Tree Depth\", \"Max Tree\", \"Max Frontier\"])\n",
    "    print(\"                    \" + maze + \" Results\")\n",
    "    print(frame)\n",
    "    print(\"\\n \\n \\n \\n \")"
   ]
  },
  {
   "cell_type": "markdown",
   "id": "2fdf517f-b38c-4afa-8927-f6cf663ac896",
   "metadata": {},
   "source": [
    "What happens if the agent does not know the layout of the maze in advance (i.e., faces an unkown, only partially observable environment)? How does the environment look then (PEAS description)? How would you implement a rational agent to solve the maze? What if the agent still has a GPS device to tell the distance to the goal?"
   ]
  },
  {
   "cell_type": "markdown",
   "id": "045fd5c9-fa19-44c5-ae9f-4bbce63a753c",
   "metadata": {},
   "source": [
    "If the agent does not know the environment or can only see part of it, then all of the algorithms are basically uniformed search algorithms. Even A* and Greedy best first algorithm would have no heuristic function leaving them blind. Their performance would be equal to all of the others. If a GPS was added, this would allow the informed search algorithms (A* and GBFS) to function normally. In addition, some sort of sensor would need to be added like bumpers or distance to wall sensors. \n",
    "* Performance Measure: Would be path size compared to optimal path\n",
    "* Environment: Static spaces with walls that cannot be crossed\n",
    "* Actuator: Moving to adjacent tile\n",
    "* Sensor: Could be bumpers, or even better distance to wall sensors. The distance sensors could return an int representing the length between the agent and the next wall in a ceratain direction. This would be helpful in intersections and for mapping when only part of the environment is visible. "
   ]
  },
  {
   "cell_type": "code",
   "execution_count": 4,
   "id": "35c3d684-2b0c-4011-8e9e-39401f7926ac",
   "metadata": {},
   "outputs": [
    {
     "ename": "SyntaxError",
     "evalue": "invalid syntax (2022812339.py, line 1)",
     "output_type": "error",
     "traceback": [
      "\u001b[0;36m  File \u001b[0;32m\"/tmp/ipykernel_68/2022812339.py\"\u001b[0;36m, line \u001b[0;32m1\u001b[0m\n\u001b[0;31m    pip install nbconvert\u001b[0m\n\u001b[0m        ^\u001b[0m\n\u001b[0;31mSyntaxError\u001b[0m\u001b[0;31m:\u001b[0m invalid syntax\n"
     ]
    }
   ],
   "source": [
    "pip install nbconvert\n",
    "\n",
    "jupyter nbconvert --to html notebook.ipynb  \n"
   ]
  },
  {
   "cell_type": "code",
   "execution_count": null,
   "id": "c6783e74-07c5-49a5-980f-56e5c72dcf18",
   "metadata": {},
   "outputs": [],
   "source": []
  }
 ],
 "metadata": {
  "kernelspec": {
   "display_name": "Python 3 (ipykernel)",
   "language": "python",
   "name": "python3"
  },
  "language_info": {
   "codemirror_mode": {
    "name": "ipython",
    "version": 3
   },
   "file_extension": ".py",
   "mimetype": "text/x-python",
   "name": "python",
   "nbconvert_exporter": "python",
   "pygments_lexer": "ipython3",
   "version": "3.9.6"
  }
 },
 "nbformat": 4,
 "nbformat_minor": 5
}
